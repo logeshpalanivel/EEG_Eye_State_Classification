{
  "nbformat": 4,
  "nbformat_minor": 0,
  "metadata": {
    "colab": {
      "provenance": [],
      "authorship_tag": "ABX9TyPVz1BhJbcFEZta9FowF3OK",
      "include_colab_link": true
    },
    "kernelspec": {
      "name": "python3",
      "display_name": "Python 3"
    },
    "language_info": {
      "name": "python"
    }
  },
  "cells": [
    {
      "cell_type": "markdown",
      "metadata": {
        "id": "view-in-github",
        "colab_type": "text"
      },
      "source": [
        "<a href=\"https://colab.research.google.com/github/logeshpalanivel/EEG_Eye_State_Classification/blob/main/EEG_Eye_State_Classification.ipynb\" target=\"_parent\"><img src=\"https://colab.research.google.com/assets/colab-badge.svg\" alt=\"Open In Colab\"/></a>"
      ]
    },
    {
      "cell_type": "code",
      "execution_count": 1,
      "metadata": {
        "id": "MqCOwLqwluRg"
      },
      "outputs": [],
      "source": [
        "import numpy as np\n",
        "import pandas as pd\n",
        "import matplotlib.pyplot as plt\n",
        "import seaborn as sns"
      ]
    },
    {
      "cell_type": "code",
      "source": [
        "df = pd.read_csv(\"/content/EEG_Eye_State_Classification.csv\")"
      ],
      "metadata": {
        "id": "u-wcSa3Wl2Xe"
      },
      "execution_count": 2,
      "outputs": []
    },
    {
      "cell_type": "code",
      "source": [
        "df.head()"
      ],
      "metadata": {
        "colab": {
          "base_uri": "https://localhost:8080/",
          "height": 226
        },
        "id": "O7RqmNbWl_-E",
        "outputId": "18536909-5e49-43bd-b403-b612ed54180f"
      },
      "execution_count": 3,
      "outputs": [
        {
          "output_type": "execute_result",
          "data": {
            "text/plain": [
              "       AF3       F7       F3      FC5       T7       P7       O1       O2  \\\n",
              "0  4329.23  4009.23  4289.23  4148.21  4350.26  4586.15  4096.92  4641.03   \n",
              "1  4324.62  4004.62  4293.85  4148.72  4342.05  4586.67  4097.44  4638.97   \n",
              "2  4327.69  4006.67  4295.38  4156.41  4336.92  4583.59  4096.92  4630.26   \n",
              "3  4328.72  4011.79  4296.41  4155.90  4343.59  4582.56  4097.44  4630.77   \n",
              "4  4326.15  4011.79  4292.31  4151.28  4347.69  4586.67  4095.90  4627.69   \n",
              "\n",
              "        P8       T8      FC6       F4       F8      AF4  eyeDetection  \n",
              "0  4222.05  4238.46  4211.28  4280.51  4635.90  4393.85             0  \n",
              "1  4210.77  4226.67  4207.69  4279.49  4632.82  4384.10             0  \n",
              "2  4207.69  4222.05  4206.67  4282.05  4628.72  4389.23             0  \n",
              "3  4217.44  4235.38  4210.77  4287.69  4632.31  4396.41             0  \n",
              "4  4210.77  4244.10  4212.82  4288.21  4632.82  4398.46             0  "
            ],
            "text/html": [
              "\n",
              "  <div id=\"df-41bbccb6-44b6-40e6-8a10-e30d313f002a\" class=\"colab-df-container\">\n",
              "    <div>\n",
              "<style scoped>\n",
              "    .dataframe tbody tr th:only-of-type {\n",
              "        vertical-align: middle;\n",
              "    }\n",
              "\n",
              "    .dataframe tbody tr th {\n",
              "        vertical-align: top;\n",
              "    }\n",
              "\n",
              "    .dataframe thead th {\n",
              "        text-align: right;\n",
              "    }\n",
              "</style>\n",
              "<table border=\"1\" class=\"dataframe\">\n",
              "  <thead>\n",
              "    <tr style=\"text-align: right;\">\n",
              "      <th></th>\n",
              "      <th>AF3</th>\n",
              "      <th>F7</th>\n",
              "      <th>F3</th>\n",
              "      <th>FC5</th>\n",
              "      <th>T7</th>\n",
              "      <th>P7</th>\n",
              "      <th>O1</th>\n",
              "      <th>O2</th>\n",
              "      <th>P8</th>\n",
              "      <th>T8</th>\n",
              "      <th>FC6</th>\n",
              "      <th>F4</th>\n",
              "      <th>F8</th>\n",
              "      <th>AF4</th>\n",
              "      <th>eyeDetection</th>\n",
              "    </tr>\n",
              "  </thead>\n",
              "  <tbody>\n",
              "    <tr>\n",
              "      <th>0</th>\n",
              "      <td>4329.23</td>\n",
              "      <td>4009.23</td>\n",
              "      <td>4289.23</td>\n",
              "      <td>4148.21</td>\n",
              "      <td>4350.26</td>\n",
              "      <td>4586.15</td>\n",
              "      <td>4096.92</td>\n",
              "      <td>4641.03</td>\n",
              "      <td>4222.05</td>\n",
              "      <td>4238.46</td>\n",
              "      <td>4211.28</td>\n",
              "      <td>4280.51</td>\n",
              "      <td>4635.90</td>\n",
              "      <td>4393.85</td>\n",
              "      <td>0</td>\n",
              "    </tr>\n",
              "    <tr>\n",
              "      <th>1</th>\n",
              "      <td>4324.62</td>\n",
              "      <td>4004.62</td>\n",
              "      <td>4293.85</td>\n",
              "      <td>4148.72</td>\n",
              "      <td>4342.05</td>\n",
              "      <td>4586.67</td>\n",
              "      <td>4097.44</td>\n",
              "      <td>4638.97</td>\n",
              "      <td>4210.77</td>\n",
              "      <td>4226.67</td>\n",
              "      <td>4207.69</td>\n",
              "      <td>4279.49</td>\n",
              "      <td>4632.82</td>\n",
              "      <td>4384.10</td>\n",
              "      <td>0</td>\n",
              "    </tr>\n",
              "    <tr>\n",
              "      <th>2</th>\n",
              "      <td>4327.69</td>\n",
              "      <td>4006.67</td>\n",
              "      <td>4295.38</td>\n",
              "      <td>4156.41</td>\n",
              "      <td>4336.92</td>\n",
              "      <td>4583.59</td>\n",
              "      <td>4096.92</td>\n",
              "      <td>4630.26</td>\n",
              "      <td>4207.69</td>\n",
              "      <td>4222.05</td>\n",
              "      <td>4206.67</td>\n",
              "      <td>4282.05</td>\n",
              "      <td>4628.72</td>\n",
              "      <td>4389.23</td>\n",
              "      <td>0</td>\n",
              "    </tr>\n",
              "    <tr>\n",
              "      <th>3</th>\n",
              "      <td>4328.72</td>\n",
              "      <td>4011.79</td>\n",
              "      <td>4296.41</td>\n",
              "      <td>4155.90</td>\n",
              "      <td>4343.59</td>\n",
              "      <td>4582.56</td>\n",
              "      <td>4097.44</td>\n",
              "      <td>4630.77</td>\n",
              "      <td>4217.44</td>\n",
              "      <td>4235.38</td>\n",
              "      <td>4210.77</td>\n",
              "      <td>4287.69</td>\n",
              "      <td>4632.31</td>\n",
              "      <td>4396.41</td>\n",
              "      <td>0</td>\n",
              "    </tr>\n",
              "    <tr>\n",
              "      <th>4</th>\n",
              "      <td>4326.15</td>\n",
              "      <td>4011.79</td>\n",
              "      <td>4292.31</td>\n",
              "      <td>4151.28</td>\n",
              "      <td>4347.69</td>\n",
              "      <td>4586.67</td>\n",
              "      <td>4095.90</td>\n",
              "      <td>4627.69</td>\n",
              "      <td>4210.77</td>\n",
              "      <td>4244.10</td>\n",
              "      <td>4212.82</td>\n",
              "      <td>4288.21</td>\n",
              "      <td>4632.82</td>\n",
              "      <td>4398.46</td>\n",
              "      <td>0</td>\n",
              "    </tr>\n",
              "  </tbody>\n",
              "</table>\n",
              "</div>\n",
              "    <div class=\"colab-df-buttons\">\n",
              "\n",
              "  <div class=\"colab-df-container\">\n",
              "    <button class=\"colab-df-convert\" onclick=\"convertToInteractive('df-41bbccb6-44b6-40e6-8a10-e30d313f002a')\"\n",
              "            title=\"Convert this dataframe to an interactive table.\"\n",
              "            style=\"display:none;\">\n",
              "\n",
              "  <svg xmlns=\"http://www.w3.org/2000/svg\" height=\"24px\" viewBox=\"0 -960 960 960\">\n",
              "    <path d=\"M120-120v-720h720v720H120Zm60-500h600v-160H180v160Zm220 220h160v-160H400v160Zm0 220h160v-160H400v160ZM180-400h160v-160H180v160Zm440 0h160v-160H620v160ZM180-180h160v-160H180v160Zm440 0h160v-160H620v160Z\"/>\n",
              "  </svg>\n",
              "    </button>\n",
              "\n",
              "  <style>\n",
              "    .colab-df-container {\n",
              "      display:flex;\n",
              "      gap: 12px;\n",
              "    }\n",
              "\n",
              "    .colab-df-convert {\n",
              "      background-color: #E8F0FE;\n",
              "      border: none;\n",
              "      border-radius: 50%;\n",
              "      cursor: pointer;\n",
              "      display: none;\n",
              "      fill: #1967D2;\n",
              "      height: 32px;\n",
              "      padding: 0 0 0 0;\n",
              "      width: 32px;\n",
              "    }\n",
              "\n",
              "    .colab-df-convert:hover {\n",
              "      background-color: #E2EBFA;\n",
              "      box-shadow: 0px 1px 2px rgba(60, 64, 67, 0.3), 0px 1px 3px 1px rgba(60, 64, 67, 0.15);\n",
              "      fill: #174EA6;\n",
              "    }\n",
              "\n",
              "    .colab-df-buttons div {\n",
              "      margin-bottom: 4px;\n",
              "    }\n",
              "\n",
              "    [theme=dark] .colab-df-convert {\n",
              "      background-color: #3B4455;\n",
              "      fill: #D2E3FC;\n",
              "    }\n",
              "\n",
              "    [theme=dark] .colab-df-convert:hover {\n",
              "      background-color: #434B5C;\n",
              "      box-shadow: 0px 1px 3px 1px rgba(0, 0, 0, 0.15);\n",
              "      filter: drop-shadow(0px 1px 2px rgba(0, 0, 0, 0.3));\n",
              "      fill: #FFFFFF;\n",
              "    }\n",
              "  </style>\n",
              "\n",
              "    <script>\n",
              "      const buttonEl =\n",
              "        document.querySelector('#df-41bbccb6-44b6-40e6-8a10-e30d313f002a button.colab-df-convert');\n",
              "      buttonEl.style.display =\n",
              "        google.colab.kernel.accessAllowed ? 'block' : 'none';\n",
              "\n",
              "      async function convertToInteractive(key) {\n",
              "        const element = document.querySelector('#df-41bbccb6-44b6-40e6-8a10-e30d313f002a');\n",
              "        const dataTable =\n",
              "          await google.colab.kernel.invokeFunction('convertToInteractive',\n",
              "                                                    [key], {});\n",
              "        if (!dataTable) return;\n",
              "\n",
              "        const docLinkHtml = 'Like what you see? Visit the ' +\n",
              "          '<a target=\"_blank\" href=https://colab.research.google.com/notebooks/data_table.ipynb>data table notebook</a>'\n",
              "          + ' to learn more about interactive tables.';\n",
              "        element.innerHTML = '';\n",
              "        dataTable['output_type'] = 'display_data';\n",
              "        await google.colab.output.renderOutput(dataTable, element);\n",
              "        const docLink = document.createElement('div');\n",
              "        docLink.innerHTML = docLinkHtml;\n",
              "        element.appendChild(docLink);\n",
              "      }\n",
              "    </script>\n",
              "  </div>\n",
              "\n",
              "\n",
              "<div id=\"df-e3fa7987-80e0-4b9a-b36b-c7658bc9e296\">\n",
              "  <button class=\"colab-df-quickchart\" onclick=\"quickchart('df-e3fa7987-80e0-4b9a-b36b-c7658bc9e296')\"\n",
              "            title=\"Suggest charts\"\n",
              "            style=\"display:none;\">\n",
              "\n",
              "<svg xmlns=\"http://www.w3.org/2000/svg\" height=\"24px\"viewBox=\"0 0 24 24\"\n",
              "     width=\"24px\">\n",
              "    <g>\n",
              "        <path d=\"M19 3H5c-1.1 0-2 .9-2 2v14c0 1.1.9 2 2 2h14c1.1 0 2-.9 2-2V5c0-1.1-.9-2-2-2zM9 17H7v-7h2v7zm4 0h-2V7h2v10zm4 0h-2v-4h2v4z\"/>\n",
              "    </g>\n",
              "</svg>\n",
              "  </button>\n",
              "\n",
              "<style>\n",
              "  .colab-df-quickchart {\n",
              "      --bg-color: #E8F0FE;\n",
              "      --fill-color: #1967D2;\n",
              "      --hover-bg-color: #E2EBFA;\n",
              "      --hover-fill-color: #174EA6;\n",
              "      --disabled-fill-color: #AAA;\n",
              "      --disabled-bg-color: #DDD;\n",
              "  }\n",
              "\n",
              "  [theme=dark] .colab-df-quickchart {\n",
              "      --bg-color: #3B4455;\n",
              "      --fill-color: #D2E3FC;\n",
              "      --hover-bg-color: #434B5C;\n",
              "      --hover-fill-color: #FFFFFF;\n",
              "      --disabled-bg-color: #3B4455;\n",
              "      --disabled-fill-color: #666;\n",
              "  }\n",
              "\n",
              "  .colab-df-quickchart {\n",
              "    background-color: var(--bg-color);\n",
              "    border: none;\n",
              "    border-radius: 50%;\n",
              "    cursor: pointer;\n",
              "    display: none;\n",
              "    fill: var(--fill-color);\n",
              "    height: 32px;\n",
              "    padding: 0;\n",
              "    width: 32px;\n",
              "  }\n",
              "\n",
              "  .colab-df-quickchart:hover {\n",
              "    background-color: var(--hover-bg-color);\n",
              "    box-shadow: 0 1px 2px rgba(60, 64, 67, 0.3), 0 1px 3px 1px rgba(60, 64, 67, 0.15);\n",
              "    fill: var(--button-hover-fill-color);\n",
              "  }\n",
              "\n",
              "  .colab-df-quickchart-complete:disabled,\n",
              "  .colab-df-quickchart-complete:disabled:hover {\n",
              "    background-color: var(--disabled-bg-color);\n",
              "    fill: var(--disabled-fill-color);\n",
              "    box-shadow: none;\n",
              "  }\n",
              "\n",
              "  .colab-df-spinner {\n",
              "    border: 2px solid var(--fill-color);\n",
              "    border-color: transparent;\n",
              "    border-bottom-color: var(--fill-color);\n",
              "    animation:\n",
              "      spin 1s steps(1) infinite;\n",
              "  }\n",
              "\n",
              "  @keyframes spin {\n",
              "    0% {\n",
              "      border-color: transparent;\n",
              "      border-bottom-color: var(--fill-color);\n",
              "      border-left-color: var(--fill-color);\n",
              "    }\n",
              "    20% {\n",
              "      border-color: transparent;\n",
              "      border-left-color: var(--fill-color);\n",
              "      border-top-color: var(--fill-color);\n",
              "    }\n",
              "    30% {\n",
              "      border-color: transparent;\n",
              "      border-left-color: var(--fill-color);\n",
              "      border-top-color: var(--fill-color);\n",
              "      border-right-color: var(--fill-color);\n",
              "    }\n",
              "    40% {\n",
              "      border-color: transparent;\n",
              "      border-right-color: var(--fill-color);\n",
              "      border-top-color: var(--fill-color);\n",
              "    }\n",
              "    60% {\n",
              "      border-color: transparent;\n",
              "      border-right-color: var(--fill-color);\n",
              "    }\n",
              "    80% {\n",
              "      border-color: transparent;\n",
              "      border-right-color: var(--fill-color);\n",
              "      border-bottom-color: var(--fill-color);\n",
              "    }\n",
              "    90% {\n",
              "      border-color: transparent;\n",
              "      border-bottom-color: var(--fill-color);\n",
              "    }\n",
              "  }\n",
              "</style>\n",
              "\n",
              "  <script>\n",
              "    async function quickchart(key) {\n",
              "      const quickchartButtonEl =\n",
              "        document.querySelector('#' + key + ' button');\n",
              "      quickchartButtonEl.disabled = true;  // To prevent multiple clicks.\n",
              "      quickchartButtonEl.classList.add('colab-df-spinner');\n",
              "      try {\n",
              "        const charts = await google.colab.kernel.invokeFunction(\n",
              "            'suggestCharts', [key], {});\n",
              "      } catch (error) {\n",
              "        console.error('Error during call to suggestCharts:', error);\n",
              "      }\n",
              "      quickchartButtonEl.classList.remove('colab-df-spinner');\n",
              "      quickchartButtonEl.classList.add('colab-df-quickchart-complete');\n",
              "    }\n",
              "    (() => {\n",
              "      let quickchartButtonEl =\n",
              "        document.querySelector('#df-e3fa7987-80e0-4b9a-b36b-c7658bc9e296 button');\n",
              "      quickchartButtonEl.style.display =\n",
              "        google.colab.kernel.accessAllowed ? 'block' : 'none';\n",
              "    })();\n",
              "  </script>\n",
              "</div>\n",
              "\n",
              "    </div>\n",
              "  </div>\n"
            ],
            "application/vnd.google.colaboratory.intrinsic+json": {
              "type": "dataframe",
              "variable_name": "df",
              "summary": "{\n  \"name\": \"df\",\n  \"rows\": 14980,\n  \"fields\": [\n    {\n      \"column\": \"AF3\",\n      \"properties\": {\n        \"dtype\": \"number\",\n        \"std\": 2492.0721742650967,\n        \"min\": 1030.77,\n        \"max\": 309231.0,\n        \"num_unique_values\": 548,\n        \"samples\": [\n          4257.95,\n          4458.46,\n          4256.92\n        ],\n        \"semantic_type\": \"\",\n        \"description\": \"\"\n      }\n    },\n    {\n      \"column\": \"F7\",\n      \"properties\": {\n        \"dtype\": \"number\",\n        \"std\": 45.94167248479191,\n        \"min\": 2830.77,\n        \"max\": 7804.62,\n        \"num_unique_values\": 452,\n        \"samples\": [\n          4078.46,\n          4017.44,\n          4098.46\n        ],\n        \"semantic_type\": \"\",\n        \"description\": \"\"\n      }\n    },\n    {\n      \"column\": \"F3\",\n      \"properties\": {\n        \"dtype\": \"number\",\n        \"std\": 44.428051757419404,\n        \"min\": 1040.0,\n        \"max\": 6880.51,\n        \"num_unique_values\": 345,\n        \"samples\": [\n          4295.9,\n          4307.18,\n          4385.64\n        ],\n        \"semantic_type\": \"\",\n        \"description\": \"\"\n      }\n    },\n    {\n      \"column\": \"FC5\",\n      \"properties\": {\n        \"dtype\": \"number\",\n        \"std\": 5216.404632299904,\n        \"min\": 2453.33,\n        \"max\": 642564.0,\n        \"num_unique_values\": 312,\n        \"samples\": [\n          4162.05,\n          4142.05,\n          4114.36\n        ],\n        \"semantic_type\": \"\",\n        \"description\": \"\"\n      }\n    },\n    {\n      \"column\": \"T7\",\n      \"properties\": {\n        \"dtype\": \"number\",\n        \"std\": 34.73882081848662,\n        \"min\": 2089.74,\n        \"max\": 6474.36,\n        \"num_unique_values\": 285,\n        \"samples\": [\n          4339.49,\n          4427.69,\n          4447.18\n        ],\n        \"semantic_type\": \"\",\n        \"description\": \"\"\n      }\n    },\n    {\n      \"column\": \"P7\",\n      \"properties\": {\n        \"dtype\": \"number\",\n        \"std\": 2924.789537325123,\n        \"min\": 2768.21,\n        \"max\": 362564.0,\n        \"num_unique_values\": 330,\n        \"samples\": [\n          4581.54,\n          4651.79,\n          4570.77\n        ],\n        \"semantic_type\": \"\",\n        \"description\": \"\"\n      }\n    },\n    {\n      \"column\": \"O1\",\n      \"properties\": {\n        \"dtype\": \"number\",\n        \"std\": 4600.926542533788,\n        \"min\": 2086.15,\n        \"max\": 567179.0,\n        \"num_unique_values\": 290,\n        \"samples\": [\n          4098.46,\n          4134.87,\n          4078.97\n        ],\n        \"semantic_type\": \"\",\n        \"description\": \"\"\n      }\n    },\n    {\n      \"column\": \"O2\",\n      \"properties\": {\n        \"dtype\": \"number\",\n        \"std\": 29.292603201776213,\n        \"min\": 4567.18,\n        \"max\": 7264.1,\n        \"num_unique_values\": 294,\n        \"samples\": [\n          4609.74,\n          4608.72,\n          4583.59\n        ],\n        \"semantic_type\": \"\",\n        \"description\": \"\"\n      }\n    },\n    {\n      \"column\": \"P8\",\n      \"properties\": {\n        \"dtype\": \"number\",\n        \"std\": 2136.408522887388,\n        \"min\": 1357.95,\n        \"max\": 265641.0,\n        \"num_unique_values\": 304,\n        \"samples\": [\n          4238.97,\n          4170.77,\n          4234.87\n        ],\n        \"semantic_type\": \"\",\n        \"description\": \"\"\n      }\n    },\n    {\n      \"column\": \"T8\",\n      \"properties\": {\n        \"dtype\": \"number\",\n        \"std\": 38.050902621216295,\n        \"min\": 1816.41,\n        \"max\": 6674.36,\n        \"num_unique_values\": 346,\n        \"samples\": [\n          4256.41,\n          4193.85,\n          4330.77\n        ],\n        \"semantic_type\": \"\",\n        \"description\": \"\"\n      }\n    },\n    {\n      \"column\": \"FC6\",\n      \"properties\": {\n        \"dtype\": \"number\",\n        \"std\": 37.78598137403711,\n        \"min\": 3273.33,\n        \"max\": 6823.08,\n        \"num_unique_values\": 419,\n        \"samples\": [\n          4173.85,\n          4148.72,\n          4231.28\n        ],\n        \"semantic_type\": \"\",\n        \"description\": \"\"\n      }\n    },\n    {\n      \"column\": \"F4\",\n      \"properties\": {\n        \"dtype\": \"number\",\n        \"std\": 41.544311516664244,\n        \"min\": 2257.95,\n        \"max\": 7002.56,\n        \"num_unique_values\": 343,\n        \"samples\": [\n          4238.46,\n          4323.08,\n          4328.72\n        ],\n        \"semantic_type\": \"\",\n        \"description\": \"\"\n      }\n    },\n    {\n      \"column\": \"F8\",\n      \"properties\": {\n        \"dtype\": \"number\",\n        \"std\": 1208.3699582560432,\n        \"min\": 86.6667,\n        \"max\": 152308.0,\n        \"num_unique_values\": 558,\n        \"samples\": [\n          4667.69,\n          4475.9,\n          4640.0\n        ],\n        \"semantic_type\": \"\",\n        \"description\": \"\"\n      }\n    },\n    {\n      \"column\": \"AF4\",\n      \"properties\": {\n        \"dtype\": \"number\",\n        \"std\": 5891.285042523523,\n        \"min\": 1366.15,\n        \"max\": 715897.0,\n        \"num_unique_values\": 592,\n        \"samples\": [\n          4456.92,\n          4539.49,\n          4402.56\n        ],\n        \"semantic_type\": \"\",\n        \"description\": \"\"\n      }\n    },\n    {\n      \"column\": \"eyeDetection\",\n      \"properties\": {\n        \"dtype\": \"number\",\n        \"std\": 0,\n        \"min\": 0,\n        \"max\": 1,\n        \"num_unique_values\": 2,\n        \"samples\": [\n          1,\n          0\n        ],\n        \"semantic_type\": \"\",\n        \"description\": \"\"\n      }\n    }\n  ]\n}"
            }
          },
          "metadata": {},
          "execution_count": 3
        }
      ]
    },
    {
      "cell_type": "code",
      "source": [
        "df.tail()"
      ],
      "metadata": {
        "colab": {
          "base_uri": "https://localhost:8080/",
          "height": 226
        },
        "id": "su0U2yMGmBQo",
        "outputId": "da8f12ae-9cbe-4691-98a6-e711e5a24378"
      },
      "execution_count": 4,
      "outputs": [
        {
          "output_type": "execute_result",
          "data": {
            "text/plain": [
              "           AF3       F7       F3      FC5       T7       P7       O1       O2  \\\n",
              "14975  4281.03  3990.26  4245.64  4116.92  4333.85  4614.36  4074.87  4625.64   \n",
              "14976  4276.92  3991.79  4245.13  4110.77  4332.82  4615.38  4073.33  4621.54   \n",
              "14977  4277.44  3990.77  4246.67  4113.85  4333.33  4615.38  4072.82  4623.59   \n",
              "14978  4284.62  3991.79  4251.28  4122.05  4334.36  4616.41  4080.51  4628.72   \n",
              "14979  4287.69  3997.44  4260.00  4121.03  4333.33  4616.41  4088.72  4638.46   \n",
              "\n",
              "            P8       T8      FC6       F4       F8      AF4  eyeDetection  \n",
              "14975  4203.08  4221.54  4171.28  4269.23  4593.33  4340.51             1  \n",
              "14976  4194.36  4217.44  4162.56  4259.49  4590.26  4333.33             1  \n",
              "14977  4193.33  4212.82  4160.51  4257.95  4591.79  4339.49             1  \n",
              "14978  4200.00  4220.00  4165.64  4267.18  4596.41  4350.77             1  \n",
              "14979  4212.31  4226.67  4167.69  4274.36  4597.95  4350.77             1  "
            ],
            "text/html": [
              "\n",
              "  <div id=\"df-49e69559-55f1-485a-8784-10e59f8aa0f3\" class=\"colab-df-container\">\n",
              "    <div>\n",
              "<style scoped>\n",
              "    .dataframe tbody tr th:only-of-type {\n",
              "        vertical-align: middle;\n",
              "    }\n",
              "\n",
              "    .dataframe tbody tr th {\n",
              "        vertical-align: top;\n",
              "    }\n",
              "\n",
              "    .dataframe thead th {\n",
              "        text-align: right;\n",
              "    }\n",
              "</style>\n",
              "<table border=\"1\" class=\"dataframe\">\n",
              "  <thead>\n",
              "    <tr style=\"text-align: right;\">\n",
              "      <th></th>\n",
              "      <th>AF3</th>\n",
              "      <th>F7</th>\n",
              "      <th>F3</th>\n",
              "      <th>FC5</th>\n",
              "      <th>T7</th>\n",
              "      <th>P7</th>\n",
              "      <th>O1</th>\n",
              "      <th>O2</th>\n",
              "      <th>P8</th>\n",
              "      <th>T8</th>\n",
              "      <th>FC6</th>\n",
              "      <th>F4</th>\n",
              "      <th>F8</th>\n",
              "      <th>AF4</th>\n",
              "      <th>eyeDetection</th>\n",
              "    </tr>\n",
              "  </thead>\n",
              "  <tbody>\n",
              "    <tr>\n",
              "      <th>14975</th>\n",
              "      <td>4281.03</td>\n",
              "      <td>3990.26</td>\n",
              "      <td>4245.64</td>\n",
              "      <td>4116.92</td>\n",
              "      <td>4333.85</td>\n",
              "      <td>4614.36</td>\n",
              "      <td>4074.87</td>\n",
              "      <td>4625.64</td>\n",
              "      <td>4203.08</td>\n",
              "      <td>4221.54</td>\n",
              "      <td>4171.28</td>\n",
              "      <td>4269.23</td>\n",
              "      <td>4593.33</td>\n",
              "      <td>4340.51</td>\n",
              "      <td>1</td>\n",
              "    </tr>\n",
              "    <tr>\n",
              "      <th>14976</th>\n",
              "      <td>4276.92</td>\n",
              "      <td>3991.79</td>\n",
              "      <td>4245.13</td>\n",
              "      <td>4110.77</td>\n",
              "      <td>4332.82</td>\n",
              "      <td>4615.38</td>\n",
              "      <td>4073.33</td>\n",
              "      <td>4621.54</td>\n",
              "      <td>4194.36</td>\n",
              "      <td>4217.44</td>\n",
              "      <td>4162.56</td>\n",
              "      <td>4259.49</td>\n",
              "      <td>4590.26</td>\n",
              "      <td>4333.33</td>\n",
              "      <td>1</td>\n",
              "    </tr>\n",
              "    <tr>\n",
              "      <th>14977</th>\n",
              "      <td>4277.44</td>\n",
              "      <td>3990.77</td>\n",
              "      <td>4246.67</td>\n",
              "      <td>4113.85</td>\n",
              "      <td>4333.33</td>\n",
              "      <td>4615.38</td>\n",
              "      <td>4072.82</td>\n",
              "      <td>4623.59</td>\n",
              "      <td>4193.33</td>\n",
              "      <td>4212.82</td>\n",
              "      <td>4160.51</td>\n",
              "      <td>4257.95</td>\n",
              "      <td>4591.79</td>\n",
              "      <td>4339.49</td>\n",
              "      <td>1</td>\n",
              "    </tr>\n",
              "    <tr>\n",
              "      <th>14978</th>\n",
              "      <td>4284.62</td>\n",
              "      <td>3991.79</td>\n",
              "      <td>4251.28</td>\n",
              "      <td>4122.05</td>\n",
              "      <td>4334.36</td>\n",
              "      <td>4616.41</td>\n",
              "      <td>4080.51</td>\n",
              "      <td>4628.72</td>\n",
              "      <td>4200.00</td>\n",
              "      <td>4220.00</td>\n",
              "      <td>4165.64</td>\n",
              "      <td>4267.18</td>\n",
              "      <td>4596.41</td>\n",
              "      <td>4350.77</td>\n",
              "      <td>1</td>\n",
              "    </tr>\n",
              "    <tr>\n",
              "      <th>14979</th>\n",
              "      <td>4287.69</td>\n",
              "      <td>3997.44</td>\n",
              "      <td>4260.00</td>\n",
              "      <td>4121.03</td>\n",
              "      <td>4333.33</td>\n",
              "      <td>4616.41</td>\n",
              "      <td>4088.72</td>\n",
              "      <td>4638.46</td>\n",
              "      <td>4212.31</td>\n",
              "      <td>4226.67</td>\n",
              "      <td>4167.69</td>\n",
              "      <td>4274.36</td>\n",
              "      <td>4597.95</td>\n",
              "      <td>4350.77</td>\n",
              "      <td>1</td>\n",
              "    </tr>\n",
              "  </tbody>\n",
              "</table>\n",
              "</div>\n",
              "    <div class=\"colab-df-buttons\">\n",
              "\n",
              "  <div class=\"colab-df-container\">\n",
              "    <button class=\"colab-df-convert\" onclick=\"convertToInteractive('df-49e69559-55f1-485a-8784-10e59f8aa0f3')\"\n",
              "            title=\"Convert this dataframe to an interactive table.\"\n",
              "            style=\"display:none;\">\n",
              "\n",
              "  <svg xmlns=\"http://www.w3.org/2000/svg\" height=\"24px\" viewBox=\"0 -960 960 960\">\n",
              "    <path d=\"M120-120v-720h720v720H120Zm60-500h600v-160H180v160Zm220 220h160v-160H400v160Zm0 220h160v-160H400v160ZM180-400h160v-160H180v160Zm440 0h160v-160H620v160ZM180-180h160v-160H180v160Zm440 0h160v-160H620v160Z\"/>\n",
              "  </svg>\n",
              "    </button>\n",
              "\n",
              "  <style>\n",
              "    .colab-df-container {\n",
              "      display:flex;\n",
              "      gap: 12px;\n",
              "    }\n",
              "\n",
              "    .colab-df-convert {\n",
              "      background-color: #E8F0FE;\n",
              "      border: none;\n",
              "      border-radius: 50%;\n",
              "      cursor: pointer;\n",
              "      display: none;\n",
              "      fill: #1967D2;\n",
              "      height: 32px;\n",
              "      padding: 0 0 0 0;\n",
              "      width: 32px;\n",
              "    }\n",
              "\n",
              "    .colab-df-convert:hover {\n",
              "      background-color: #E2EBFA;\n",
              "      box-shadow: 0px 1px 2px rgba(60, 64, 67, 0.3), 0px 1px 3px 1px rgba(60, 64, 67, 0.15);\n",
              "      fill: #174EA6;\n",
              "    }\n",
              "\n",
              "    .colab-df-buttons div {\n",
              "      margin-bottom: 4px;\n",
              "    }\n",
              "\n",
              "    [theme=dark] .colab-df-convert {\n",
              "      background-color: #3B4455;\n",
              "      fill: #D2E3FC;\n",
              "    }\n",
              "\n",
              "    [theme=dark] .colab-df-convert:hover {\n",
              "      background-color: #434B5C;\n",
              "      box-shadow: 0px 1px 3px 1px rgba(0, 0, 0, 0.15);\n",
              "      filter: drop-shadow(0px 1px 2px rgba(0, 0, 0, 0.3));\n",
              "      fill: #FFFFFF;\n",
              "    }\n",
              "  </style>\n",
              "\n",
              "    <script>\n",
              "      const buttonEl =\n",
              "        document.querySelector('#df-49e69559-55f1-485a-8784-10e59f8aa0f3 button.colab-df-convert');\n",
              "      buttonEl.style.display =\n",
              "        google.colab.kernel.accessAllowed ? 'block' : 'none';\n",
              "\n",
              "      async function convertToInteractive(key) {\n",
              "        const element = document.querySelector('#df-49e69559-55f1-485a-8784-10e59f8aa0f3');\n",
              "        const dataTable =\n",
              "          await google.colab.kernel.invokeFunction('convertToInteractive',\n",
              "                                                    [key], {});\n",
              "        if (!dataTable) return;\n",
              "\n",
              "        const docLinkHtml = 'Like what you see? Visit the ' +\n",
              "          '<a target=\"_blank\" href=https://colab.research.google.com/notebooks/data_table.ipynb>data table notebook</a>'\n",
              "          + ' to learn more about interactive tables.';\n",
              "        element.innerHTML = '';\n",
              "        dataTable['output_type'] = 'display_data';\n",
              "        await google.colab.output.renderOutput(dataTable, element);\n",
              "        const docLink = document.createElement('div');\n",
              "        docLink.innerHTML = docLinkHtml;\n",
              "        element.appendChild(docLink);\n",
              "      }\n",
              "    </script>\n",
              "  </div>\n",
              "\n",
              "\n",
              "<div id=\"df-ddc1b97d-1b7e-4e68-96af-4c3b4042e90e\">\n",
              "  <button class=\"colab-df-quickchart\" onclick=\"quickchart('df-ddc1b97d-1b7e-4e68-96af-4c3b4042e90e')\"\n",
              "            title=\"Suggest charts\"\n",
              "            style=\"display:none;\">\n",
              "\n",
              "<svg xmlns=\"http://www.w3.org/2000/svg\" height=\"24px\"viewBox=\"0 0 24 24\"\n",
              "     width=\"24px\">\n",
              "    <g>\n",
              "        <path d=\"M19 3H5c-1.1 0-2 .9-2 2v14c0 1.1.9 2 2 2h14c1.1 0 2-.9 2-2V5c0-1.1-.9-2-2-2zM9 17H7v-7h2v7zm4 0h-2V7h2v10zm4 0h-2v-4h2v4z\"/>\n",
              "    </g>\n",
              "</svg>\n",
              "  </button>\n",
              "\n",
              "<style>\n",
              "  .colab-df-quickchart {\n",
              "      --bg-color: #E8F0FE;\n",
              "      --fill-color: #1967D2;\n",
              "      --hover-bg-color: #E2EBFA;\n",
              "      --hover-fill-color: #174EA6;\n",
              "      --disabled-fill-color: #AAA;\n",
              "      --disabled-bg-color: #DDD;\n",
              "  }\n",
              "\n",
              "  [theme=dark] .colab-df-quickchart {\n",
              "      --bg-color: #3B4455;\n",
              "      --fill-color: #D2E3FC;\n",
              "      --hover-bg-color: #434B5C;\n",
              "      --hover-fill-color: #FFFFFF;\n",
              "      --disabled-bg-color: #3B4455;\n",
              "      --disabled-fill-color: #666;\n",
              "  }\n",
              "\n",
              "  .colab-df-quickchart {\n",
              "    background-color: var(--bg-color);\n",
              "    border: none;\n",
              "    border-radius: 50%;\n",
              "    cursor: pointer;\n",
              "    display: none;\n",
              "    fill: var(--fill-color);\n",
              "    height: 32px;\n",
              "    padding: 0;\n",
              "    width: 32px;\n",
              "  }\n",
              "\n",
              "  .colab-df-quickchart:hover {\n",
              "    background-color: var(--hover-bg-color);\n",
              "    box-shadow: 0 1px 2px rgba(60, 64, 67, 0.3), 0 1px 3px 1px rgba(60, 64, 67, 0.15);\n",
              "    fill: var(--button-hover-fill-color);\n",
              "  }\n",
              "\n",
              "  .colab-df-quickchart-complete:disabled,\n",
              "  .colab-df-quickchart-complete:disabled:hover {\n",
              "    background-color: var(--disabled-bg-color);\n",
              "    fill: var(--disabled-fill-color);\n",
              "    box-shadow: none;\n",
              "  }\n",
              "\n",
              "  .colab-df-spinner {\n",
              "    border: 2px solid var(--fill-color);\n",
              "    border-color: transparent;\n",
              "    border-bottom-color: var(--fill-color);\n",
              "    animation:\n",
              "      spin 1s steps(1) infinite;\n",
              "  }\n",
              "\n",
              "  @keyframes spin {\n",
              "    0% {\n",
              "      border-color: transparent;\n",
              "      border-bottom-color: var(--fill-color);\n",
              "      border-left-color: var(--fill-color);\n",
              "    }\n",
              "    20% {\n",
              "      border-color: transparent;\n",
              "      border-left-color: var(--fill-color);\n",
              "      border-top-color: var(--fill-color);\n",
              "    }\n",
              "    30% {\n",
              "      border-color: transparent;\n",
              "      border-left-color: var(--fill-color);\n",
              "      border-top-color: var(--fill-color);\n",
              "      border-right-color: var(--fill-color);\n",
              "    }\n",
              "    40% {\n",
              "      border-color: transparent;\n",
              "      border-right-color: var(--fill-color);\n",
              "      border-top-color: var(--fill-color);\n",
              "    }\n",
              "    60% {\n",
              "      border-color: transparent;\n",
              "      border-right-color: var(--fill-color);\n",
              "    }\n",
              "    80% {\n",
              "      border-color: transparent;\n",
              "      border-right-color: var(--fill-color);\n",
              "      border-bottom-color: var(--fill-color);\n",
              "    }\n",
              "    90% {\n",
              "      border-color: transparent;\n",
              "      border-bottom-color: var(--fill-color);\n",
              "    }\n",
              "  }\n",
              "</style>\n",
              "\n",
              "  <script>\n",
              "    async function quickchart(key) {\n",
              "      const quickchartButtonEl =\n",
              "        document.querySelector('#' + key + ' button');\n",
              "      quickchartButtonEl.disabled = true;  // To prevent multiple clicks.\n",
              "      quickchartButtonEl.classList.add('colab-df-spinner');\n",
              "      try {\n",
              "        const charts = await google.colab.kernel.invokeFunction(\n",
              "            'suggestCharts', [key], {});\n",
              "      } catch (error) {\n",
              "        console.error('Error during call to suggestCharts:', error);\n",
              "      }\n",
              "      quickchartButtonEl.classList.remove('colab-df-spinner');\n",
              "      quickchartButtonEl.classList.add('colab-df-quickchart-complete');\n",
              "    }\n",
              "    (() => {\n",
              "      let quickchartButtonEl =\n",
              "        document.querySelector('#df-ddc1b97d-1b7e-4e68-96af-4c3b4042e90e button');\n",
              "      quickchartButtonEl.style.display =\n",
              "        google.colab.kernel.accessAllowed ? 'block' : 'none';\n",
              "    })();\n",
              "  </script>\n",
              "</div>\n",
              "\n",
              "    </div>\n",
              "  </div>\n"
            ],
            "application/vnd.google.colaboratory.intrinsic+json": {
              "type": "dataframe",
              "summary": "{\n  \"name\": \"df\",\n  \"rows\": 5,\n  \"fields\": [\n    {\n      \"column\": \"AF3\",\n      \"properties\": {\n        \"dtype\": \"number\",\n        \"std\": 4.629346606163694,\n        \"min\": 4276.92,\n        \"max\": 4287.69,\n        \"num_unique_values\": 5,\n        \"samples\": [\n          4276.92,\n          4287.69,\n          4277.44\n        ],\n        \"semantic_type\": \"\",\n        \"description\": \"\"\n      }\n    },\n    {\n      \"column\": \"F7\",\n      \"properties\": {\n        \"dtype\": \"number\",\n        \"std\": 2.8888492518648214,\n        \"min\": 3990.26,\n        \"max\": 3997.44,\n        \"num_unique_values\": 4,\n        \"samples\": [\n          3991.79,\n          3997.44,\n          3990.26\n        ],\n        \"semantic_type\": \"\",\n        \"description\": \"\"\n      }\n    },\n    {\n      \"column\": \"F3\",\n      \"properties\": {\n        \"dtype\": \"number\",\n        \"std\": 6.227481834577984,\n        \"min\": 4245.13,\n        \"max\": 4260.0,\n        \"num_unique_values\": 5,\n        \"samples\": [\n          4245.13,\n          4260.0,\n          4246.67\n        ],\n        \"semantic_type\": \"\",\n        \"description\": \"\"\n      }\n    },\n    {\n      \"column\": \"FC5\",\n      \"properties\": {\n        \"dtype\": \"number\",\n        \"std\": 4.755426374153851,\n        \"min\": 4110.77,\n        \"max\": 4122.05,\n        \"num_unique_values\": 5,\n        \"samples\": [\n          4110.77,\n          4121.03,\n          4113.85\n        ],\n        \"semantic_type\": \"\",\n        \"description\": \"\"\n      }\n    },\n    {\n      \"column\": \"T7\",\n      \"properties\": {\n        \"dtype\": \"number\",\n        \"std\": 0.586319025787192,\n        \"min\": 4332.82,\n        \"max\": 4334.36,\n        \"num_unique_values\": 4,\n        \"samples\": [\n          4332.82,\n          4334.36,\n          4333.85\n        ],\n        \"semantic_type\": \"\",\n        \"description\": \"\"\n      }\n    },\n    {\n      \"column\": \"P7\",\n      \"properties\": {\n        \"dtype\": \"number\",\n        \"std\": 0.8581783031515413,\n        \"min\": 4614.36,\n        \"max\": 4616.41,\n        \"num_unique_values\": 3,\n        \"samples\": [\n          4614.36,\n          4615.38,\n          4616.41\n        ],\n        \"semantic_type\": \"\",\n        \"description\": \"\"\n      }\n    },\n    {\n      \"column\": \"O1\",\n      \"properties\": {\n        \"dtype\": \"number\",\n        \"std\": 6.701570711407821,\n        \"min\": 4072.82,\n        \"max\": 4088.72,\n        \"num_unique_values\": 5,\n        \"samples\": [\n          4073.33,\n          4088.72,\n          4072.82\n        ],\n        \"semantic_type\": \"\",\n        \"description\": \"\"\n      }\n    },\n    {\n      \"column\": \"O2\",\n      \"properties\": {\n        \"dtype\": \"number\",\n        \"std\": 6.630211158025047,\n        \"min\": 4621.54,\n        \"max\": 4638.46,\n        \"num_unique_values\": 5,\n        \"samples\": [\n          4621.54,\n          4638.46,\n          4623.59\n        ],\n        \"semantic_type\": \"\",\n        \"description\": \"\"\n      }\n    },\n    {\n      \"column\": \"P8\",\n      \"properties\": {\n        \"dtype\": \"number\",\n        \"std\": 7.671761857618075,\n        \"min\": 4193.33,\n        \"max\": 4212.31,\n        \"num_unique_values\": 5,\n        \"samples\": [\n          4194.36,\n          4212.31,\n          4193.33\n        ],\n        \"semantic_type\": \"\",\n        \"description\": \"\"\n      }\n    },\n    {\n      \"column\": \"T8\",\n      \"properties\": {\n        \"dtype\": \"number\",\n        \"std\": 5.111220989157255,\n        \"min\": 4212.82,\n        \"max\": 4226.67,\n        \"num_unique_values\": 5,\n        \"samples\": [\n          4217.44,\n          4226.67,\n          4212.82\n        ],\n        \"semantic_type\": \"\",\n        \"description\": \"\"\n      }\n    },\n    {\n      \"column\": \"FC6\",\n      \"properties\": {\n        \"dtype\": \"number\",\n        \"std\": 4.235602672583645,\n        \"min\": 4160.51,\n        \"max\": 4171.28,\n        \"num_unique_values\": 5,\n        \"samples\": [\n          4162.56,\n          4167.69,\n          4160.51\n        ],\n        \"semantic_type\": \"\",\n        \"description\": \"\"\n      }\n    },\n    {\n      \"column\": \"F4\",\n      \"properties\": {\n        \"dtype\": \"number\",\n        \"std\": 6.86033308229268,\n        \"min\": 4257.95,\n        \"max\": 4274.36,\n        \"num_unique_values\": 5,\n        \"samples\": [\n          4259.49,\n          4274.36,\n          4257.95\n        ],\n        \"semantic_type\": \"\",\n        \"description\": \"\"\n      }\n    },\n    {\n      \"column\": \"F8\",\n      \"properties\": {\n        \"dtype\": \"number\",\n        \"std\": 3.190520333738545,\n        \"min\": 4590.26,\n        \"max\": 4597.95,\n        \"num_unique_values\": 5,\n        \"samples\": [\n          4590.26,\n          4597.95,\n          4591.79\n        ],\n        \"semantic_type\": \"\",\n        \"description\": \"\"\n      }\n    },\n    {\n      \"column\": \"AF4\",\n      \"properties\": {\n        \"dtype\": \"number\",\n        \"std\": 7.628425787802086,\n        \"min\": 4333.33,\n        \"max\": 4350.77,\n        \"num_unique_values\": 4,\n        \"samples\": [\n          4333.33,\n          4350.77,\n          4340.51\n        ],\n        \"semantic_type\": \"\",\n        \"description\": \"\"\n      }\n    },\n    {\n      \"column\": \"eyeDetection\",\n      \"properties\": {\n        \"dtype\": \"number\",\n        \"std\": 0,\n        \"min\": 1,\n        \"max\": 1,\n        \"num_unique_values\": 1,\n        \"samples\": [\n          1\n        ],\n        \"semantic_type\": \"\",\n        \"description\": \"\"\n      }\n    }\n  ]\n}"
            }
          },
          "metadata": {},
          "execution_count": 4
        }
      ]
    },
    {
      "cell_type": "code",
      "source": [
        "df.describe()"
      ],
      "metadata": {
        "colab": {
          "base_uri": "https://localhost:8080/",
          "height": 320
        },
        "id": "ek1DhcqXmCIb",
        "outputId": "2df00946-c822-4400-8ba7-c7b4509d1984"
      },
      "execution_count": 5,
      "outputs": [
        {
          "output_type": "execute_result",
          "data": {
            "text/plain": [
              "                 AF3            F7            F3            FC5            T7  \\\n",
              "count   14980.000000  14980.000000  14980.000000   14980.000000  14980.000000   \n",
              "mean     4321.917777   4009.767694   4264.022433    4164.946326   4341.741075   \n",
              "std      2492.072174     45.941672     44.428052    5216.404632     34.738821   \n",
              "min      1030.770000   2830.770000   1040.000000    2453.330000   2089.740000   \n",
              "25%      4280.510000   3990.770000   4250.260000    4108.210000   4331.790000   \n",
              "50%      4294.360000   4005.640000   4262.560000    4120.510000   4338.970000   \n",
              "75%      4311.790000   4023.080000   4270.770000    4132.310000   4347.180000   \n",
              "max    309231.000000   7804.620000   6880.510000  642564.000000   6474.360000   \n",
              "\n",
              "                  P7             O1            O2             P8  \\\n",
              "count   14980.000000   14980.000000  14980.000000   14980.000000   \n",
              "mean     4644.022379    4110.400160   4616.056904    4218.826610   \n",
              "std      2924.789537    4600.926543     29.292603    2136.408523   \n",
              "min      2768.210000    2086.150000   4567.180000    1357.950000   \n",
              "25%      4611.790000    4057.950000   4604.620000    4190.770000   \n",
              "50%      4617.950000    4070.260000   4613.330000    4199.490000   \n",
              "75%      4626.670000    4083.590000   4624.100000    4209.230000   \n",
              "max    362564.000000  567179.000000   7264.100000  265641.000000   \n",
              "\n",
              "                 T8           FC6            F4             F8            AF4  \\\n",
              "count  14980.000000  14980.000000  14980.000000   14980.000000   14980.000000   \n",
              "mean    4231.316200   4202.456900   4279.232774    4615.205336    4416.435832   \n",
              "std       38.050903     37.785981     41.544312    1208.369958    5891.285043   \n",
              "min     1816.410000   3273.330000   2257.950000      86.666700    1366.150000   \n",
              "25%     4220.510000   4190.260000   4267.690000    4590.770000    4342.050000   \n",
              "50%     4229.230000   4200.510000   4276.920000    4603.080000    4354.870000   \n",
              "75%     4239.490000   4211.280000   4287.180000    4617.440000    4372.820000   \n",
              "max     6674.360000   6823.080000   7002.560000  152308.000000  715897.000000   \n",
              "\n",
              "       eyeDetection  \n",
              "count  14980.000000  \n",
              "mean       0.448798  \n",
              "std        0.497388  \n",
              "min        0.000000  \n",
              "25%        0.000000  \n",
              "50%        0.000000  \n",
              "75%        1.000000  \n",
              "max        1.000000  "
            ],
            "text/html": [
              "\n",
              "  <div id=\"df-1b91eb4f-e30c-4dc8-a16a-d3a9e70abc1b\" class=\"colab-df-container\">\n",
              "    <div>\n",
              "<style scoped>\n",
              "    .dataframe tbody tr th:only-of-type {\n",
              "        vertical-align: middle;\n",
              "    }\n",
              "\n",
              "    .dataframe tbody tr th {\n",
              "        vertical-align: top;\n",
              "    }\n",
              "\n",
              "    .dataframe thead th {\n",
              "        text-align: right;\n",
              "    }\n",
              "</style>\n",
              "<table border=\"1\" class=\"dataframe\">\n",
              "  <thead>\n",
              "    <tr style=\"text-align: right;\">\n",
              "      <th></th>\n",
              "      <th>AF3</th>\n",
              "      <th>F7</th>\n",
              "      <th>F3</th>\n",
              "      <th>FC5</th>\n",
              "      <th>T7</th>\n",
              "      <th>P7</th>\n",
              "      <th>O1</th>\n",
              "      <th>O2</th>\n",
              "      <th>P8</th>\n",
              "      <th>T8</th>\n",
              "      <th>FC6</th>\n",
              "      <th>F4</th>\n",
              "      <th>F8</th>\n",
              "      <th>AF4</th>\n",
              "      <th>eyeDetection</th>\n",
              "    </tr>\n",
              "  </thead>\n",
              "  <tbody>\n",
              "    <tr>\n",
              "      <th>count</th>\n",
              "      <td>14980.000000</td>\n",
              "      <td>14980.000000</td>\n",
              "      <td>14980.000000</td>\n",
              "      <td>14980.000000</td>\n",
              "      <td>14980.000000</td>\n",
              "      <td>14980.000000</td>\n",
              "      <td>14980.000000</td>\n",
              "      <td>14980.000000</td>\n",
              "      <td>14980.000000</td>\n",
              "      <td>14980.000000</td>\n",
              "      <td>14980.000000</td>\n",
              "      <td>14980.000000</td>\n",
              "      <td>14980.000000</td>\n",
              "      <td>14980.000000</td>\n",
              "      <td>14980.000000</td>\n",
              "    </tr>\n",
              "    <tr>\n",
              "      <th>mean</th>\n",
              "      <td>4321.917777</td>\n",
              "      <td>4009.767694</td>\n",
              "      <td>4264.022433</td>\n",
              "      <td>4164.946326</td>\n",
              "      <td>4341.741075</td>\n",
              "      <td>4644.022379</td>\n",
              "      <td>4110.400160</td>\n",
              "      <td>4616.056904</td>\n",
              "      <td>4218.826610</td>\n",
              "      <td>4231.316200</td>\n",
              "      <td>4202.456900</td>\n",
              "      <td>4279.232774</td>\n",
              "      <td>4615.205336</td>\n",
              "      <td>4416.435832</td>\n",
              "      <td>0.448798</td>\n",
              "    </tr>\n",
              "    <tr>\n",
              "      <th>std</th>\n",
              "      <td>2492.072174</td>\n",
              "      <td>45.941672</td>\n",
              "      <td>44.428052</td>\n",
              "      <td>5216.404632</td>\n",
              "      <td>34.738821</td>\n",
              "      <td>2924.789537</td>\n",
              "      <td>4600.926543</td>\n",
              "      <td>29.292603</td>\n",
              "      <td>2136.408523</td>\n",
              "      <td>38.050903</td>\n",
              "      <td>37.785981</td>\n",
              "      <td>41.544312</td>\n",
              "      <td>1208.369958</td>\n",
              "      <td>5891.285043</td>\n",
              "      <td>0.497388</td>\n",
              "    </tr>\n",
              "    <tr>\n",
              "      <th>min</th>\n",
              "      <td>1030.770000</td>\n",
              "      <td>2830.770000</td>\n",
              "      <td>1040.000000</td>\n",
              "      <td>2453.330000</td>\n",
              "      <td>2089.740000</td>\n",
              "      <td>2768.210000</td>\n",
              "      <td>2086.150000</td>\n",
              "      <td>4567.180000</td>\n",
              "      <td>1357.950000</td>\n",
              "      <td>1816.410000</td>\n",
              "      <td>3273.330000</td>\n",
              "      <td>2257.950000</td>\n",
              "      <td>86.666700</td>\n",
              "      <td>1366.150000</td>\n",
              "      <td>0.000000</td>\n",
              "    </tr>\n",
              "    <tr>\n",
              "      <th>25%</th>\n",
              "      <td>4280.510000</td>\n",
              "      <td>3990.770000</td>\n",
              "      <td>4250.260000</td>\n",
              "      <td>4108.210000</td>\n",
              "      <td>4331.790000</td>\n",
              "      <td>4611.790000</td>\n",
              "      <td>4057.950000</td>\n",
              "      <td>4604.620000</td>\n",
              "      <td>4190.770000</td>\n",
              "      <td>4220.510000</td>\n",
              "      <td>4190.260000</td>\n",
              "      <td>4267.690000</td>\n",
              "      <td>4590.770000</td>\n",
              "      <td>4342.050000</td>\n",
              "      <td>0.000000</td>\n",
              "    </tr>\n",
              "    <tr>\n",
              "      <th>50%</th>\n",
              "      <td>4294.360000</td>\n",
              "      <td>4005.640000</td>\n",
              "      <td>4262.560000</td>\n",
              "      <td>4120.510000</td>\n",
              "      <td>4338.970000</td>\n",
              "      <td>4617.950000</td>\n",
              "      <td>4070.260000</td>\n",
              "      <td>4613.330000</td>\n",
              "      <td>4199.490000</td>\n",
              "      <td>4229.230000</td>\n",
              "      <td>4200.510000</td>\n",
              "      <td>4276.920000</td>\n",
              "      <td>4603.080000</td>\n",
              "      <td>4354.870000</td>\n",
              "      <td>0.000000</td>\n",
              "    </tr>\n",
              "    <tr>\n",
              "      <th>75%</th>\n",
              "      <td>4311.790000</td>\n",
              "      <td>4023.080000</td>\n",
              "      <td>4270.770000</td>\n",
              "      <td>4132.310000</td>\n",
              "      <td>4347.180000</td>\n",
              "      <td>4626.670000</td>\n",
              "      <td>4083.590000</td>\n",
              "      <td>4624.100000</td>\n",
              "      <td>4209.230000</td>\n",
              "      <td>4239.490000</td>\n",
              "      <td>4211.280000</td>\n",
              "      <td>4287.180000</td>\n",
              "      <td>4617.440000</td>\n",
              "      <td>4372.820000</td>\n",
              "      <td>1.000000</td>\n",
              "    </tr>\n",
              "    <tr>\n",
              "      <th>max</th>\n",
              "      <td>309231.000000</td>\n",
              "      <td>7804.620000</td>\n",
              "      <td>6880.510000</td>\n",
              "      <td>642564.000000</td>\n",
              "      <td>6474.360000</td>\n",
              "      <td>362564.000000</td>\n",
              "      <td>567179.000000</td>\n",
              "      <td>7264.100000</td>\n",
              "      <td>265641.000000</td>\n",
              "      <td>6674.360000</td>\n",
              "      <td>6823.080000</td>\n",
              "      <td>7002.560000</td>\n",
              "      <td>152308.000000</td>\n",
              "      <td>715897.000000</td>\n",
              "      <td>1.000000</td>\n",
              "    </tr>\n",
              "  </tbody>\n",
              "</table>\n",
              "</div>\n",
              "    <div class=\"colab-df-buttons\">\n",
              "\n",
              "  <div class=\"colab-df-container\">\n",
              "    <button class=\"colab-df-convert\" onclick=\"convertToInteractive('df-1b91eb4f-e30c-4dc8-a16a-d3a9e70abc1b')\"\n",
              "            title=\"Convert this dataframe to an interactive table.\"\n",
              "            style=\"display:none;\">\n",
              "\n",
              "  <svg xmlns=\"http://www.w3.org/2000/svg\" height=\"24px\" viewBox=\"0 -960 960 960\">\n",
              "    <path d=\"M120-120v-720h720v720H120Zm60-500h600v-160H180v160Zm220 220h160v-160H400v160Zm0 220h160v-160H400v160ZM180-400h160v-160H180v160Zm440 0h160v-160H620v160ZM180-180h160v-160H180v160Zm440 0h160v-160H620v160Z\"/>\n",
              "  </svg>\n",
              "    </button>\n",
              "\n",
              "  <style>\n",
              "    .colab-df-container {\n",
              "      display:flex;\n",
              "      gap: 12px;\n",
              "    }\n",
              "\n",
              "    .colab-df-convert {\n",
              "      background-color: #E8F0FE;\n",
              "      border: none;\n",
              "      border-radius: 50%;\n",
              "      cursor: pointer;\n",
              "      display: none;\n",
              "      fill: #1967D2;\n",
              "      height: 32px;\n",
              "      padding: 0 0 0 0;\n",
              "      width: 32px;\n",
              "    }\n",
              "\n",
              "    .colab-df-convert:hover {\n",
              "      background-color: #E2EBFA;\n",
              "      box-shadow: 0px 1px 2px rgba(60, 64, 67, 0.3), 0px 1px 3px 1px rgba(60, 64, 67, 0.15);\n",
              "      fill: #174EA6;\n",
              "    }\n",
              "\n",
              "    .colab-df-buttons div {\n",
              "      margin-bottom: 4px;\n",
              "    }\n",
              "\n",
              "    [theme=dark] .colab-df-convert {\n",
              "      background-color: #3B4455;\n",
              "      fill: #D2E3FC;\n",
              "    }\n",
              "\n",
              "    [theme=dark] .colab-df-convert:hover {\n",
              "      background-color: #434B5C;\n",
              "      box-shadow: 0px 1px 3px 1px rgba(0, 0, 0, 0.15);\n",
              "      filter: drop-shadow(0px 1px 2px rgba(0, 0, 0, 0.3));\n",
              "      fill: #FFFFFF;\n",
              "    }\n",
              "  </style>\n",
              "\n",
              "    <script>\n",
              "      const buttonEl =\n",
              "        document.querySelector('#df-1b91eb4f-e30c-4dc8-a16a-d3a9e70abc1b button.colab-df-convert');\n",
              "      buttonEl.style.display =\n",
              "        google.colab.kernel.accessAllowed ? 'block' : 'none';\n",
              "\n",
              "      async function convertToInteractive(key) {\n",
              "        const element = document.querySelector('#df-1b91eb4f-e30c-4dc8-a16a-d3a9e70abc1b');\n",
              "        const dataTable =\n",
              "          await google.colab.kernel.invokeFunction('convertToInteractive',\n",
              "                                                    [key], {});\n",
              "        if (!dataTable) return;\n",
              "\n",
              "        const docLinkHtml = 'Like what you see? Visit the ' +\n",
              "          '<a target=\"_blank\" href=https://colab.research.google.com/notebooks/data_table.ipynb>data table notebook</a>'\n",
              "          + ' to learn more about interactive tables.';\n",
              "        element.innerHTML = '';\n",
              "        dataTable['output_type'] = 'display_data';\n",
              "        await google.colab.output.renderOutput(dataTable, element);\n",
              "        const docLink = document.createElement('div');\n",
              "        docLink.innerHTML = docLinkHtml;\n",
              "        element.appendChild(docLink);\n",
              "      }\n",
              "    </script>\n",
              "  </div>\n",
              "\n",
              "\n",
              "<div id=\"df-4391e984-e8d5-449a-8154-5c533b901863\">\n",
              "  <button class=\"colab-df-quickchart\" onclick=\"quickchart('df-4391e984-e8d5-449a-8154-5c533b901863')\"\n",
              "            title=\"Suggest charts\"\n",
              "            style=\"display:none;\">\n",
              "\n",
              "<svg xmlns=\"http://www.w3.org/2000/svg\" height=\"24px\"viewBox=\"0 0 24 24\"\n",
              "     width=\"24px\">\n",
              "    <g>\n",
              "        <path d=\"M19 3H5c-1.1 0-2 .9-2 2v14c0 1.1.9 2 2 2h14c1.1 0 2-.9 2-2V5c0-1.1-.9-2-2-2zM9 17H7v-7h2v7zm4 0h-2V7h2v10zm4 0h-2v-4h2v4z\"/>\n",
              "    </g>\n",
              "</svg>\n",
              "  </button>\n",
              "\n",
              "<style>\n",
              "  .colab-df-quickchart {\n",
              "      --bg-color: #E8F0FE;\n",
              "      --fill-color: #1967D2;\n",
              "      --hover-bg-color: #E2EBFA;\n",
              "      --hover-fill-color: #174EA6;\n",
              "      --disabled-fill-color: #AAA;\n",
              "      --disabled-bg-color: #DDD;\n",
              "  }\n",
              "\n",
              "  [theme=dark] .colab-df-quickchart {\n",
              "      --bg-color: #3B4455;\n",
              "      --fill-color: #D2E3FC;\n",
              "      --hover-bg-color: #434B5C;\n",
              "      --hover-fill-color: #FFFFFF;\n",
              "      --disabled-bg-color: #3B4455;\n",
              "      --disabled-fill-color: #666;\n",
              "  }\n",
              "\n",
              "  .colab-df-quickchart {\n",
              "    background-color: var(--bg-color);\n",
              "    border: none;\n",
              "    border-radius: 50%;\n",
              "    cursor: pointer;\n",
              "    display: none;\n",
              "    fill: var(--fill-color);\n",
              "    height: 32px;\n",
              "    padding: 0;\n",
              "    width: 32px;\n",
              "  }\n",
              "\n",
              "  .colab-df-quickchart:hover {\n",
              "    background-color: var(--hover-bg-color);\n",
              "    box-shadow: 0 1px 2px rgba(60, 64, 67, 0.3), 0 1px 3px 1px rgba(60, 64, 67, 0.15);\n",
              "    fill: var(--button-hover-fill-color);\n",
              "  }\n",
              "\n",
              "  .colab-df-quickchart-complete:disabled,\n",
              "  .colab-df-quickchart-complete:disabled:hover {\n",
              "    background-color: var(--disabled-bg-color);\n",
              "    fill: var(--disabled-fill-color);\n",
              "    box-shadow: none;\n",
              "  }\n",
              "\n",
              "  .colab-df-spinner {\n",
              "    border: 2px solid var(--fill-color);\n",
              "    border-color: transparent;\n",
              "    border-bottom-color: var(--fill-color);\n",
              "    animation:\n",
              "      spin 1s steps(1) infinite;\n",
              "  }\n",
              "\n",
              "  @keyframes spin {\n",
              "    0% {\n",
              "      border-color: transparent;\n",
              "      border-bottom-color: var(--fill-color);\n",
              "      border-left-color: var(--fill-color);\n",
              "    }\n",
              "    20% {\n",
              "      border-color: transparent;\n",
              "      border-left-color: var(--fill-color);\n",
              "      border-top-color: var(--fill-color);\n",
              "    }\n",
              "    30% {\n",
              "      border-color: transparent;\n",
              "      border-left-color: var(--fill-color);\n",
              "      border-top-color: var(--fill-color);\n",
              "      border-right-color: var(--fill-color);\n",
              "    }\n",
              "    40% {\n",
              "      border-color: transparent;\n",
              "      border-right-color: var(--fill-color);\n",
              "      border-top-color: var(--fill-color);\n",
              "    }\n",
              "    60% {\n",
              "      border-color: transparent;\n",
              "      border-right-color: var(--fill-color);\n",
              "    }\n",
              "    80% {\n",
              "      border-color: transparent;\n",
              "      border-right-color: var(--fill-color);\n",
              "      border-bottom-color: var(--fill-color);\n",
              "    }\n",
              "    90% {\n",
              "      border-color: transparent;\n",
              "      border-bottom-color: var(--fill-color);\n",
              "    }\n",
              "  }\n",
              "</style>\n",
              "\n",
              "  <script>\n",
              "    async function quickchart(key) {\n",
              "      const quickchartButtonEl =\n",
              "        document.querySelector('#' + key + ' button');\n",
              "      quickchartButtonEl.disabled = true;  // To prevent multiple clicks.\n",
              "      quickchartButtonEl.classList.add('colab-df-spinner');\n",
              "      try {\n",
              "        const charts = await google.colab.kernel.invokeFunction(\n",
              "            'suggestCharts', [key], {});\n",
              "      } catch (error) {\n",
              "        console.error('Error during call to suggestCharts:', error);\n",
              "      }\n",
              "      quickchartButtonEl.classList.remove('colab-df-spinner');\n",
              "      quickchartButtonEl.classList.add('colab-df-quickchart-complete');\n",
              "    }\n",
              "    (() => {\n",
              "      let quickchartButtonEl =\n",
              "        document.querySelector('#df-4391e984-e8d5-449a-8154-5c533b901863 button');\n",
              "      quickchartButtonEl.style.display =\n",
              "        google.colab.kernel.accessAllowed ? 'block' : 'none';\n",
              "    })();\n",
              "  </script>\n",
              "</div>\n",
              "\n",
              "    </div>\n",
              "  </div>\n"
            ],
            "application/vnd.google.colaboratory.intrinsic+json": {
              "type": "dataframe",
              "summary": "{\n  \"name\": \"df\",\n  \"rows\": 8,\n  \"fields\": [\n    {\n      \"column\": \"AF3\",\n      \"properties\": {\n        \"dtype\": \"number\",\n        \"std\": 107607.9924914153,\n        \"min\": 1030.77,\n        \"max\": 309231.0,\n        \"num_unique_values\": 8,\n        \"samples\": [\n          4321.917777036048,\n          4294.36,\n          14980.0\n        ],\n        \"semantic_type\": \"\",\n        \"description\": \"\"\n      }\n    },\n    {\n      \"column\": \"F7\",\n      \"properties\": {\n        \"dtype\": \"number\",\n        \"std\": 4476.917214345025,\n        \"min\": 45.94167248479191,\n        \"max\": 14980.0,\n        \"num_unique_values\": 8,\n        \"samples\": [\n          4009.767693591455,\n          4005.64,\n          14980.0\n        ],\n        \"semantic_type\": \"\",\n        \"description\": \"\"\n      }\n    },\n    {\n      \"column\": \"F3\",\n      \"properties\": {\n        \"dtype\": \"number\",\n        \"std\": 4560.002685639067,\n        \"min\": 44.428051757419404,\n        \"max\": 14980.0,\n        \"num_unique_values\": 8,\n        \"samples\": [\n          4264.0224325767695,\n          4262.56,\n          14980.0\n        ],\n        \"semantic_type\": \"\",\n        \"description\": \"\"\n      }\n    },\n    {\n      \"column\": \"FC5\",\n      \"properties\": {\n        \"dtype\": \"number\",\n        \"std\": 225235.83632971297,\n        \"min\": 2453.33,\n        \"max\": 642564.0,\n        \"num_unique_values\": 8,\n        \"samples\": [\n          4164.946326435247,\n          4120.51,\n          14980.0\n        ],\n        \"semantic_type\": \"\",\n        \"description\": \"\"\n      }\n    },\n    {\n      \"column\": \"T7\",\n      \"properties\": {\n        \"dtype\": \"number\",\n        \"std\": 4416.372312760136,\n        \"min\": 34.73882081848662,\n        \"max\": 14980.0,\n        \"num_unique_values\": 8,\n        \"samples\": [\n          4341.741075433912,\n          4338.97,\n          14980.0\n        ],\n        \"semantic_type\": \"\",\n        \"description\": \"\"\n      }\n    },\n    {\n      \"column\": \"P7\",\n      \"properties\": {\n        \"dtype\": \"number\",\n        \"std\": 126267.6966038185,\n        \"min\": 2768.21,\n        \"max\": 362564.0,\n        \"num_unique_values\": 8,\n        \"samples\": [\n          4644.02237917223,\n          4617.95,\n          14980.0\n        ],\n        \"semantic_type\": \"\",\n        \"description\": \"\"\n      }\n    },\n    {\n      \"column\": \"O1\",\n      \"properties\": {\n        \"dtype\": \"number\",\n        \"std\": 198648.99541958835,\n        \"min\": 2086.15,\n        \"max\": 567179.0,\n        \"num_unique_values\": 8,\n        \"samples\": [\n          4110.400159546061,\n          4070.26,\n          14980.0\n        ],\n        \"semantic_type\": \"\",\n        \"description\": \"\"\n      }\n    },\n    {\n      \"column\": \"O2\",\n      \"properties\": {\n        \"dtype\": \"number\",\n        \"std\": 4254.524743754144,\n        \"min\": 29.292603201776213,\n        \"max\": 14980.0,\n        \"num_unique_values\": 8,\n        \"samples\": [\n          4616.0569038718295,\n          4613.33,\n          14980.0\n        ],\n        \"semantic_type\": \"\",\n        \"description\": \"\"\n      }\n    },\n    {\n      \"column\": \"P8\",\n      \"properties\": {\n        \"dtype\": \"number\",\n        \"std\": 92231.48620381934,\n        \"min\": 1357.95,\n        \"max\": 265641.0,\n        \"num_unique_values\": 8,\n        \"samples\": [\n          4218.826610146863,\n          4199.49,\n          14980.0\n        ],\n        \"semantic_type\": \"\",\n        \"description\": \"\"\n      }\n    },\n    {\n      \"column\": \"T8\",\n      \"properties\": {\n        \"dtype\": \"number\",\n        \"std\": 4464.27025435157,\n        \"min\": 38.050902621216295,\n        \"max\": 14980.0,\n        \"num_unique_values\": 8,\n        \"samples\": [\n          4231.316199599466,\n          4229.23,\n          14980.0\n        ],\n        \"semantic_type\": \"\",\n        \"description\": \"\"\n      }\n    },\n    {\n      \"column\": \"FC6\",\n      \"properties\": {\n        \"dtype\": \"number\",\n        \"std\": 4352.697319910765,\n        \"min\": 37.78598137403711,\n        \"max\": 14980.0,\n        \"num_unique_values\": 8,\n        \"samples\": [\n          4202.456899866489,\n          4200.51,\n          14980.0\n        ],\n        \"semantic_type\": \"\",\n        \"description\": \"\"\n      }\n    },\n    {\n      \"column\": \"F4\",\n      \"properties\": {\n        \"dtype\": \"number\",\n        \"std\": 4432.991975248123,\n        \"min\": 41.544311516664244,\n        \"max\": 14980.0,\n        \"num_unique_values\": 8,\n        \"samples\": [\n          4279.232774365822,\n          4276.92,\n          14980.0\n        ],\n        \"semantic_type\": \"\",\n        \"description\": \"\"\n      }\n    },\n    {\n      \"column\": \"F8\",\n      \"properties\": {\n        \"dtype\": \"number\",\n        \"std\": 52286.17502078195,\n        \"min\": 86.6667,\n        \"max\": 152308.0,\n        \"num_unique_values\": 8,\n        \"samples\": [\n          4615.205335560748,\n          4603.08,\n          14980.0\n        ],\n        \"semantic_type\": \"\",\n        \"description\": \"\"\n      }\n    },\n    {\n      \"column\": \"AF4\",\n      \"properties\": {\n        \"dtype\": \"number\",\n        \"std\": 251133.32256507737,\n        \"min\": 1366.15,\n        \"max\": 715897.0,\n        \"num_unique_values\": 8,\n        \"samples\": [\n          4416.435832443258,\n          4354.87,\n          14980.0\n        ],\n        \"semantic_type\": \"\",\n        \"description\": \"\"\n      }\n    },\n    {\n      \"column\": \"eyeDetection\",\n      \"properties\": {\n        \"dtype\": \"number\",\n        \"std\": 5296.081002501759,\n        \"min\": 0.0,\n        \"max\": 14980.0,\n        \"num_unique_values\": 5,\n        \"samples\": [\n          0.4487983978638184,\n          1.0,\n          0.4973880888730353\n        ],\n        \"semantic_type\": \"\",\n        \"description\": \"\"\n      }\n    }\n  ]\n}"
            }
          },
          "metadata": {},
          "execution_count": 5
        }
      ]
    },
    {
      "cell_type": "code",
      "source": [
        "df.shape"
      ],
      "metadata": {
        "colab": {
          "base_uri": "https://localhost:8080/"
        },
        "id": "NXo42fKfmDem",
        "outputId": "618c2008-05bd-4004-f911-cc8be4d0d41b"
      },
      "execution_count": 6,
      "outputs": [
        {
          "output_type": "execute_result",
          "data": {
            "text/plain": [
              "(14980, 15)"
            ]
          },
          "metadata": {},
          "execution_count": 6
        }
      ]
    },
    {
      "cell_type": "code",
      "source": [
        "df.info()"
      ],
      "metadata": {
        "colab": {
          "base_uri": "https://localhost:8080/"
        },
        "id": "aWp8seYMmERr",
        "outputId": "f0a870dc-1048-4732-9964-47033a844f88"
      },
      "execution_count": 7,
      "outputs": [
        {
          "output_type": "stream",
          "name": "stdout",
          "text": [
            "<class 'pandas.core.frame.DataFrame'>\n",
            "RangeIndex: 14980 entries, 0 to 14979\n",
            "Data columns (total 15 columns):\n",
            " #   Column        Non-Null Count  Dtype  \n",
            "---  ------        --------------  -----  \n",
            " 0   AF3           14980 non-null  float64\n",
            " 1   F7            14980 non-null  float64\n",
            " 2   F3            14980 non-null  float64\n",
            " 3   FC5           14980 non-null  float64\n",
            " 4   T7            14980 non-null  float64\n",
            " 5   P7            14980 non-null  float64\n",
            " 6   O1            14980 non-null  float64\n",
            " 7   O2            14980 non-null  float64\n",
            " 8   P8            14980 non-null  float64\n",
            " 9   T8            14980 non-null  float64\n",
            " 10  FC6           14980 non-null  float64\n",
            " 11  F4            14980 non-null  float64\n",
            " 12  F8            14980 non-null  float64\n",
            " 13  AF4           14980 non-null  float64\n",
            " 14  eyeDetection  14980 non-null  int64  \n",
            "dtypes: float64(14), int64(1)\n",
            "memory usage: 1.7 MB\n"
          ]
        }
      ]
    },
    {
      "cell_type": "code",
      "source": [
        "df.isnull().sum()"
      ],
      "metadata": {
        "colab": {
          "base_uri": "https://localhost:8080/"
        },
        "id": "neaiWvjXmFSS",
        "outputId": "9ce57b11-77dd-4bbc-df7f-3359fd099aa9"
      },
      "execution_count": 8,
      "outputs": [
        {
          "output_type": "execute_result",
          "data": {
            "text/plain": [
              "AF3             0\n",
              "F7              0\n",
              "F3              0\n",
              "FC5             0\n",
              "T7              0\n",
              "P7              0\n",
              "O1              0\n",
              "O2              0\n",
              "P8              0\n",
              "T8              0\n",
              "FC6             0\n",
              "F4              0\n",
              "F8              0\n",
              "AF4             0\n",
              "eyeDetection    0\n",
              "dtype: int64"
            ]
          },
          "metadata": {},
          "execution_count": 8
        }
      ]
    },
    {
      "cell_type": "code",
      "source": [
        "a=df['AF3']\n",
        "plt.plot(a)"
      ],
      "metadata": {
        "colab": {
          "base_uri": "https://localhost:8080/",
          "height": 447
        },
        "id": "4XGBVf12mGrV",
        "outputId": "78a66589-4283-4c46-98ab-341c456efe0b"
      },
      "execution_count": 9,
      "outputs": [
        {
          "output_type": "execute_result",
          "data": {
            "text/plain": [
              "[<matplotlib.lines.Line2D at 0x78ae1579f070>]"
            ]
          },
          "metadata": {},
          "execution_count": 9
        },
        {
          "output_type": "display_data",
          "data": {
            "text/plain": [
              "<Figure size 640x480 with 1 Axes>"
            ],
            "image/png": "[encoded data removed]"
          },
          "metadata": {}
        }
      ]
    },
    {
      "cell_type": "code",
      "source": [
        "b=df['AF4']\n",
        "c=df['F4']\n",
        "plt.scatter(b,c)"
      ],
      "metadata": {
        "colab": {
          "base_uri": "https://localhost:8080/",
          "height": 447
        },
        "id": "WUOHLePimMQA",
        "outputId": "461f6dfc-3cae-4350-be4f-9818e3e9d7b4"
      },
      "execution_count": 11,
      "outputs": [
        {
          "output_type": "execute_result",
          "data": {
            "text/plain": [
              "<matplotlib.collections.PathCollection at 0x78ae0f92f250>"
            ]
          },
          "metadata": {},
          "execution_count": 11
        },
        {
          "output_type": "display_data",
          "data": {
            "text/plain": [
              "<Figure size 640x480 with 1 Axes>"
            ],
            "image/png": "[encoded data removed]"
          },
          "metadata": {}
        }
      ]
    },
    {
      "cell_type": "code",
      "source": [
        "d=df['F8']\n",
        "plt.bar(d,width=10,height=10)"
      ],
      "metadata": {
        "colab": {
          "base_uri": "https://localhost:8080/",
          "height": 447
        },
        "id": "nYAcmWKXmSEh",
        "outputId": "6d4fa0b2-b8e8-4082-b8e6-8e3f0c06c8b2"
      },
      "execution_count": 12,
      "outputs": [
        {
          "output_type": "execute_result",
          "data": {
            "text/plain": [
              "<BarContainer object of 14980 artists>"
            ]
          },
          "metadata": {},
          "execution_count": 12
        },
        {
          "output_type": "display_data",
          "data": {
            "text/plain": [
              "<Figure size 640x480 with 1 Axes>"
            ],
            "image/png": "[encoded data removed]"
          },
          "metadata": {}
        }
      ]
    },
    {
      "cell_type": "code",
      "source": [
        "e=df['FC5']\n",
        "plt.hist(e)"
      ],
      "metadata": {
        "colab": {
          "base_uri": "https://localhost:8080/",
          "height": 534
        },
        "id": "IgSWn2cUmb3g",
        "outputId": "4f0585bd-7744-4504-9b17-40fffb21bd1b"
      },
      "execution_count": 14,
      "outputs": [
        {
          "output_type": "execute_result",
          "data": {
            "text/plain": [
              "(array([1.4979e+04, 0.0000e+00, 0.0000e+00, 0.0000e+00, 0.0000e+00,\n",
              "        0.0000e+00, 0.0000e+00, 0.0000e+00, 0.0000e+00, 1.0000e+00]),\n",
              " array([  2453.33 ,  66464.397, 130475.464, 194486.531, 258497.598,\n",
              "        322508.665, 386519.732, 450530.799, 514541.866, 578552.933,\n",
              "        642564.   ]),\n",
              " <BarContainer object of 10 artists>)"
            ]
          },
          "metadata": {},
          "execution_count": 14
        },
        {
          "output_type": "display_data",
          "data": {
            "text/plain": [
              "<Figure size 640x480 with 1 Axes>"
            ],
            "image/png": "[encoded data removed]"
          },
          "metadata": {}
        }
      ]
    },
    {
      "cell_type": "code",
      "source": [
        " X = df.drop('eyeDetection',axis=1)\n"
      ],
      "metadata": {
        "id": "BNV_cQTsmk3J"
      },
      "execution_count": 16,
      "outputs": []
    },
    {
      "cell_type": "code",
      "source": [
        "Y = df['eyeDetection']"
      ],
      "metadata": {
        "id": "NL-FdWDtm0k6"
      },
      "execution_count": 17,
      "outputs": []
    },
    {
      "cell_type": "code",
      "source": [
        "X"
      ],
      "metadata": {
        "colab": {
          "base_uri": "https://localhost:8080/",
          "height": 443
        },
        "id": "lAGfJAeem_OL",
        "outputId": "3b8f57f3-6197-4000-ddf8-20785767bbc6"
      },
      "execution_count": 18,
      "outputs": [
        {
          "output_type": "execute_result",
          "data": {
            "text/plain": [
              "           AF3       F7       F3      FC5       T7       P7       O1       O2  \\\n",
              "0      4329.23  4009.23  4289.23  4148.21  4350.26  4586.15  4096.92  4641.03   \n",
              "1      4324.62  4004.62  4293.85  4148.72  4342.05  4586.67  4097.44  4638.97   \n",
              "2      4327.69  4006.67  4295.38  4156.41  4336.92  4583.59  4096.92  4630.26   \n",
              "3      4328.72  4011.79  4296.41  4155.90  4343.59  4582.56  4097.44  4630.77   \n",
              "4      4326.15  4011.79  4292.31  4151.28  4347.69  4586.67  4095.90  4627.69   \n",
              "...        ...      ...      ...      ...      ...      ...      ...      ...   \n",
              "14975  4281.03  3990.26  4245.64  4116.92  4333.85  4614.36  4074.87  4625.64   \n",
              "14976  4276.92  3991.79  4245.13  4110.77  4332.82  4615.38  4073.33  4621.54   \n",
              "14977  4277.44  3990.77  4246.67  4113.85  4333.33  4615.38  4072.82  4623.59   \n",
              "14978  4284.62  3991.79  4251.28  4122.05  4334.36  4616.41  4080.51  4628.72   \n",
              "14979  4287.69  3997.44  4260.00  4121.03  4333.33  4616.41  4088.72  4638.46   \n",
              "\n",
              "            P8       T8      FC6       F4       F8      AF4  \n",
              "0      4222.05  4238.46  4211.28  4280.51  4635.90  4393.85  \n",
              "1      4210.77  4226.67  4207.69  4279.49  4632.82  4384.10  \n",
              "2      4207.69  4222.05  4206.67  4282.05  4628.72  4389.23  \n",
              "3      4217.44  4235.38  4210.77  4287.69  4632.31  4396.41  \n",
              "4      4210.77  4244.10  4212.82  4288.21  4632.82  4398.46  \n",
              "...        ...      ...      ...      ...      ...      ...  \n",
              "14975  4203.08  4221.54  4171.28  4269.23  4593.33  4340.51  \n",
              "14976  4194.36  4217.44  4162.56  4259.49  4590.26  4333.33  \n",
              "14977  4193.33  4212.82  4160.51  4257.95  4591.79  4339.49  \n",
              "14978  4200.00  4220.00  4165.64  4267.18  4596.41  4350.77  \n",
              "14979  4212.31  4226.67  4167.69  4274.36  4597.95  4350.77  \n",
              "\n",
              "[14980 rows x 14 columns]"
            ],
            "text/html": [
              "\n",
              "  <div id=\"df-afc3a991-dab7-4b8a-878b-7ddda9b7562e\" class=\"colab-df-container\">\n",
              "    <div>\n",
              "<style scoped>\n",
              "    .dataframe tbody tr th:only-of-type {\n",
              "        vertical-align: middle;\n",
              "    }\n",
              "\n",
              "    .dataframe tbody tr th {\n",
              "        vertical-align: top;\n",
              "    }\n",
              "\n",
              "    .dataframe thead th {\n",
              "        text-align: right;\n",
              "    }\n",
              "</style>\n",
              "<table border=\"1\" class=\"dataframe\">\n",
              "  <thead>\n",
              "    <tr style=\"text-align: right;\">\n",
              "      <th></th>\n",
              "      <th>AF3</th>\n",
              "      <th>F7</th>\n",
              "      <th>F3</th>\n",
              "      <th>FC5</th>\n",
              "      <th>T7</th>\n",
              "      <th>P7</th>\n",
              "      <th>O1</th>\n",
              "      <th>O2</th>\n",
              "      <th>P8</th>\n",
              "      <th>T8</th>\n",
              "      <th>FC6</th>\n",
              "      <th>F4</th>\n",
              "      <th>F8</th>\n",
              "      <th>AF4</th>\n",
              "    </tr>\n",
              "  </thead>\n",
              "  <tbody>\n",
              "    <tr>\n",
              "      <th>0</th>\n",
              "      <td>4329.23</td>\n",
              "      <td>4009.23</td>\n",
              "      <td>4289.23</td>\n",
              "      <td>4148.21</td>\n",
              "      <td>4350.26</td>\n",
              "      <td>4586.15</td>\n",
              "      <td>4096.92</td>\n",
              "      <td>4641.03</td>\n",
              "      <td>4222.05</td>\n",
              "      <td>4238.46</td>\n",
              "      <td>4211.28</td>\n",
              "      <td>4280.51</td>\n",
              "      <td>4635.90</td>\n",
              "      <td>4393.85</td>\n",
              "    </tr>\n",
              "    <tr>\n",
              "      <th>1</th>\n",
              "      <td>4324.62</td>\n",
              "      <td>4004.62</td>\n",
              "      <td>4293.85</td>\n",
              "      <td>4148.72</td>\n",
              "      <td>4342.05</td>\n",
              "      <td>4586.67</td>\n",
              "      <td>4097.44</td>\n",
              "      <td>4638.97</td>\n",
              "      <td>4210.77</td>\n",
              "      <td>4226.67</td>\n",
              "      <td>4207.69</td>\n",
              "      <td>4279.49</td>\n",
              "      <td>4632.82</td>\n",
              "      <td>4384.10</td>\n",
              "    </tr>\n",
              "    <tr>\n",
              "      <th>2</th>\n",
              "      <td>4327.69</td>\n",
              "      <td>4006.67</td>\n",
              "      <td>4295.38</td>\n",
              "      <td>4156.41</td>\n",
              "      <td>4336.92</td>\n",
              "      <td>4583.59</td>\n",
              "      <td>4096.92</td>\n",
              "      <td>4630.26</td>\n",
              "      <td>4207.69</td>\n",
              "      <td>4222.05</td>\n",
              "      <td>4206.67</td>\n",
              "      <td>4282.05</td>\n",
              "      <td>4628.72</td>\n",
              "      <td>4389.23</td>\n",
              "    </tr>\n",
              "    <tr>\n",
              "      <th>3</th>\n",
              "      <td>4328.72</td>\n",
              "      <td>4011.79</td>\n",
              "      <td>4296.41</td>\n",
              "      <td>4155.90</td>\n",
              "      <td>4343.59</td>\n",
              "      <td>4582.56</td>\n",
              "      <td>4097.44</td>\n",
              "      <td>4630.77</td>\n",
              "      <td>4217.44</td>\n",
              "      <td>4235.38</td>\n",
              "      <td>4210.77</td>\n",
              "      <td>4287.69</td>\n",
              "      <td>4632.31</td>\n",
              "      <td>4396.41</td>\n",
              "    </tr>\n",
              "    <tr>\n",
              "      <th>4</th>\n",
              "      <td>4326.15</td>\n",
              "      <td>4011.79</td>\n",
              "      <td>4292.31</td>\n",
              "      <td>4151.28</td>\n",
              "      <td>4347.69</td>\n",
              "      <td>4586.67</td>\n",
              "      <td>4095.90</td>\n",
              "      <td>4627.69</td>\n",
              "      <td>4210.77</td>\n",
              "      <td>4244.10</td>\n",
              "      <td>4212.82</td>\n",
              "      <td>4288.21</td>\n",
              "      <td>4632.82</td>\n",
              "      <td>4398.46</td>\n",
              "    </tr>\n",
              "    <tr>\n",
              "      <th>...</th>\n",
              "      <td>...</td>\n",
              "      <td>...</td>\n",
              "      <td>...</td>\n",
              "      <td>...</td>\n",
              "      <td>...</td>\n",
              "      <td>...</td>\n",
              "      <td>...</td>\n",
              "      <td>...</td>\n",
              "      <td>...</td>\n",
              "      <td>...</td>\n",
              "      <td>...</td>\n",
              "      <td>...</td>\n",
              "      <td>...</td>\n",
              "      <td>...</td>\n",
              "    </tr>\n",
              "    <tr>\n",
              "      <th>14975</th>\n",
              "      <td>4281.03</td>\n",
              "      <td>3990.26</td>\n",
              "      <td>4245.64</td>\n",
              "      <td>4116.92</td>\n",
              "      <td>4333.85</td>\n",
              "      <td>4614.36</td>\n",
              "      <td>4074.87</td>\n",
              "      <td>4625.64</td>\n",
              "      <td>4203.08</td>\n",
              "      <td>4221.54</td>\n",
              "      <td>4171.28</td>\n",
              "      <td>4269.23</td>\n",
              "      <td>4593.33</td>\n",
              "      <td>4340.51</td>\n",
              "    </tr>\n",
              "    <tr>\n",
              "      <th>14976</th>\n",
              "      <td>4276.92</td>\n",
              "      <td>3991.79</td>\n",
              "      <td>4245.13</td>\n",
              "      <td>4110.77</td>\n",
              "      <td>4332.82</td>\n",
              "      <td>4615.38</td>\n",
              "      <td>4073.33</td>\n",
              "      <td>4621.54</td>\n",
              "      <td>4194.36</td>\n",
              "      <td>4217.44</td>\n",
              "      <td>4162.56</td>\n",
              "      <td>4259.49</td>\n",
              "      <td>4590.26</td>\n",
              "      <td>4333.33</td>\n",
              "    </tr>\n",
              "    <tr>\n",
              "      <th>14977</th>\n",
              "      <td>4277.44</td>\n",
              "      <td>3990.77</td>\n",
              "      <td>4246.67</td>\n",
              "      <td>4113.85</td>\n",
              "      <td>4333.33</td>\n",
              "      <td>4615.38</td>\n",
              "      <td>4072.82</td>\n",
              "      <td>4623.59</td>\n",
              "      <td>4193.33</td>\n",
              "      <td>4212.82</td>\n",
              "      <td>4160.51</td>\n",
              "      <td>4257.95</td>\n",
              "      <td>4591.79</td>\n",
              "      <td>4339.49</td>\n",
              "    </tr>\n",
              "    <tr>\n",
              "      <th>14978</th>\n",
              "      <td>4284.62</td>\n",
              "      <td>3991.79</td>\n",
              "      <td>4251.28</td>\n",
              "      <td>4122.05</td>\n",
              "      <td>4334.36</td>\n",
              "      <td>4616.41</td>\n",
              "      <td>4080.51</td>\n",
              "      <td>4628.72</td>\n",
              "      <td>4200.00</td>\n",
              "      <td>4220.00</td>\n",
              "      <td>4165.64</td>\n",
              "      <td>4267.18</td>\n",
              "      <td>4596.41</td>\n",
              "      <td>4350.77</td>\n",
              "    </tr>\n",
              "    <tr>\n",
              "      <th>14979</th>\n",
              "      <td>4287.69</td>\n",
              "      <td>3997.44</td>\n",
              "      <td>4260.00</td>\n",
              "      <td>4121.03</td>\n",
              "      <td>4333.33</td>\n",
              "      <td>4616.41</td>\n",
              "      <td>4088.72</td>\n",
              "      <td>4638.46</td>\n",
              "      <td>4212.31</td>\n",
              "      <td>4226.67</td>\n",
              "      <td>4167.69</td>\n",
              "      <td>4274.36</td>\n",
              "      <td>4597.95</td>\n",
              "      <td>4350.77</td>\n",
              "    </tr>\n",
              "  </tbody>\n",
              "</table>\n",
              "<p>14980 rows × 14 columns</p>\n",
              "</div>\n",
              "    <div class=\"colab-df-buttons\">\n",
              "\n",
              "  <div class=\"colab-df-container\">\n",
              "    <button class=\"colab-df-convert\" onclick=\"convertToInteractive('df-afc3a991-dab7-4b8a-878b-7ddda9b7562e')\"\n",
              "            title=\"Convert this dataframe to an interactive table.\"\n",
              "            style=\"display:none;\">\n",
              "\n",
              "  <svg xmlns=\"http://www.w3.org/2000/svg\" height=\"24px\" viewBox=\"0 -960 960 960\">\n",
              "    <path d=\"M120-120v-720h720v720H120Zm60-500h600v-160H180v160Zm220 220h160v-160H400v160Zm0 220h160v-160H400v160ZM180-400h160v-160H180v160Zm440 0h160v-160H620v160ZM180-180h160v-160H180v160Zm440 0h160v-160H620v160Z\"/>\n",
              "  </svg>\n",
              "    </button>\n",
              "\n",
              "  <style>\n",
              "    .colab-df-container {\n",
              "      display:flex;\n",
              "      gap: 12px;\n",
              "    }\n",
              "\n",
              "    .colab-df-convert {\n",
              "      background-color: #E8F0FE;\n",
              "      border: none;\n",
              "      border-radius: 50%;\n",
              "      cursor: pointer;\n",
              "      display: none;\n",
              "      fill: #1967D2;\n",
              "      height: 32px;\n",
              "      padding: 0 0 0 0;\n",
              "      width: 32px;\n",
              "    }\n",
              "\n",
              "    .colab-df-convert:hover {\n",
              "      background-color: #E2EBFA;\n",
              "      box-shadow: 0px 1px 2px rgba(60, 64, 67, 0.3), 0px 1px 3px 1px rgba(60, 64, 67, 0.15);\n",
              "      fill: #174EA6;\n",
              "    }\n",
              "\n",
              "    .colab-df-buttons div {\n",
              "      margin-bottom: 4px;\n",
              "    }\n",
              "\n",
              "    [theme=dark] .colab-df-convert {\n",
              "      background-color: #3B4455;\n",
              "      fill: #D2E3FC;\n",
              "    }\n",
              "\n",
              "    [theme=dark] .colab-df-convert:hover {\n",
              "      background-color: #434B5C;\n",
              "      box-shadow: 0px 1px 3px 1px rgba(0, 0, 0, 0.15);\n",
              "      filter: drop-shadow(0px 1px 2px rgba(0, 0, 0, 0.3));\n",
              "      fill: #FFFFFF;\n",
              "    }\n",
              "  </style>\n",
              "\n",
              "    <script>\n",
              "      const buttonEl =\n",
              "        document.querySelector('#df-afc3a991-dab7-4b8a-878b-7ddda9b7562e button.colab-df-convert');\n",
              "      buttonEl.style.display =\n",
              "        google.colab.kernel.accessAllowed ? 'block' : 'none';\n",
              "\n",
              "      async function convertToInteractive(key) {\n",
              "        const element = document.querySelector('#df-afc3a991-dab7-4b8a-878b-7ddda9b7562e');\n",
              "        const dataTable =\n",
              "          await google.colab.kernel.invokeFunction('convertToInteractive',\n",
              "                                                    [key], {});\n",
              "        if (!dataTable) return;\n",
              "\n",
              "        const docLinkHtml = 'Like what you see? Visit the ' +\n",
              "          '<a target=\"_blank\" href=https://colab.research.google.com/notebooks/data_table.ipynb>data table notebook</a>'\n",
              "          + ' to learn more about interactive tables.';\n",
              "        element.innerHTML = '';\n",
              "        dataTable['output_type'] = 'display_data';\n",
              "        await google.colab.output.renderOutput(dataTable, element);\n",
              "        const docLink = document.createElement('div');\n",
              "        docLink.innerHTML = docLinkHtml;\n",
              "        element.appendChild(docLink);\n",
              "      }\n",
              "    </script>\n",
              "  </div>\n",
              "\n",
              "\n",
              "<div id=\"df-0326462a-967d-4db0-bcdc-ee6b7eb5ffa0\">\n",
              "  <button class=\"colab-df-quickchart\" onclick=\"quickchart('df-0326462a-967d-4db0-bcdc-ee6b7eb5ffa0')\"\n",
              "            title=\"Suggest charts\"\n",
              "            style=\"display:none;\">\n",
              "\n",
              "<svg xmlns=\"http://www.w3.org/2000/svg\" height=\"24px\"viewBox=\"0 0 24 24\"\n",
              "     width=\"24px\">\n",
              "    <g>\n",
              "        <path d=\"M19 3H5c-1.1 0-2 .9-2 2v14c0 1.1.9 2 2 2h14c1.1 0 2-.9 2-2V5c0-1.1-.9-2-2-2zM9 17H7v-7h2v7zm4 0h-2V7h2v10zm4 0h-2v-4h2v4z\"/>\n",
              "    </g>\n",
              "</svg>\n",
              "  </button>\n",
              "\n",
              "<style>\n",
              "  .colab-df-quickchart {\n",
              "      --bg-color: #E8F0FE;\n",
              "      --fill-color: #1967D2;\n",
              "      --hover-bg-color: #E2EBFA;\n",
              "      --hover-fill-color: #174EA6;\n",
              "      --disabled-fill-color: #AAA;\n",
              "      --disabled-bg-color: #DDD;\n",
              "  }\n",
              "\n",
              "  [theme=dark] .colab-df-quickchart {\n",
              "      --bg-color: #3B4455;\n",
              "      --fill-color: #D2E3FC;\n",
              "      --hover-bg-color: #434B5C;\n",
              "      --hover-fill-color: #FFFFFF;\n",
              "      --disabled-bg-color: #3B4455;\n",
              "      --disabled-fill-color: #666;\n",
              "  }\n",
              "\n",
              "  .colab-df-quickchart {\n",
              "    background-color: var(--bg-color);\n",
              "    border: none;\n",
              "    border-radius: 50%;\n",
              "    cursor: pointer;\n",
              "    display: none;\n",
              "    fill: var(--fill-color);\n",
              "    height: 32px;\n",
              "    padding: 0;\n",
              "    width: 32px;\n",
              "  }\n",
              "\n",
              "  .colab-df-quickchart:hover {\n",
              "    background-color: var(--hover-bg-color);\n",
              "    box-shadow: 0 1px 2px rgba(60, 64, 67, 0.3), 0 1px 3px 1px rgba(60, 64, 67, 0.15);\n",
              "    fill: var(--button-hover-fill-color);\n",
              "  }\n",
              "\n",
              "  .colab-df-quickchart-complete:disabled,\n",
              "  .colab-df-quickchart-complete:disabled:hover {\n",
              "    background-color: var(--disabled-bg-color);\n",
              "    fill: var(--disabled-fill-color);\n",
              "    box-shadow: none;\n",
              "  }\n",
              "\n",
              "  .colab-df-spinner {\n",
              "    border: 2px solid var(--fill-color);\n",
              "    border-color: transparent;\n",
              "    border-bottom-color: var(--fill-color);\n",
              "    animation:\n",
              "      spin 1s steps(1) infinite;\n",
              "  }\n",
              "\n",
              "  @keyframes spin {\n",
              "    0% {\n",
              "      border-color: transparent;\n",
              "      border-bottom-color: var(--fill-color);\n",
              "      border-left-color: var(--fill-color);\n",
              "    }\n",
              "    20% {\n",
              "      border-color: transparent;\n",
              "      border-left-color: var(--fill-color);\n",
              "      border-top-color: var(--fill-color);\n",
              "    }\n",
              "    30% {\n",
              "      border-color: transparent;\n",
              "      border-left-color: var(--fill-color);\n",
              "      border-top-color: var(--fill-color);\n",
              "      border-right-color: var(--fill-color);\n",
              "    }\n",
              "    40% {\n",
              "      border-color: transparent;\n",
              "      border-right-color: var(--fill-color);\n",
              "      border-top-color: var(--fill-color);\n",
              "    }\n",
              "    60% {\n",
              "      border-color: transparent;\n",
              "      border-right-color: var(--fill-color);\n",
              "    }\n",
              "    80% {\n",
              "      border-color: transparent;\n",
              "      border-right-color: var(--fill-color);\n",
              "      border-bottom-color: var(--fill-color);\n",
              "    }\n",
              "    90% {\n",
              "      border-color: transparent;\n",
              "      border-bottom-color: var(--fill-color);\n",
              "    }\n",
              "  }\n",
              "</style>\n",
              "\n",
              "  <script>\n",
              "    async function quickchart(key) {\n",
              "      const quickchartButtonEl =\n",
              "        document.querySelector('#' + key + ' button');\n",
              "      quickchartButtonEl.disabled = true;  // To prevent multiple clicks.\n",
              "      quickchartButtonEl.classList.add('colab-df-spinner');\n",
              "      try {\n",
              "        const charts = await google.colab.kernel.invokeFunction(\n",
              "            'suggestCharts', [key], {});\n",
              "      } catch (error) {\n",
              "        console.error('Error during call to suggestCharts:', error);\n",
              "      }\n",
              "      quickchartButtonEl.classList.remove('colab-df-spinner');\n",
              "      quickchartButtonEl.classList.add('colab-df-quickchart-complete');\n",
              "    }\n",
              "    (() => {\n",
              "      let quickchartButtonEl =\n",
              "        document.querySelector('#df-0326462a-967d-4db0-bcdc-ee6b7eb5ffa0 button');\n",
              "      quickchartButtonEl.style.display =\n",
              "        google.colab.kernel.accessAllowed ? 'block' : 'none';\n",
              "    })();\n",
              "  </script>\n",
              "</div>\n",
              "\n",
              "  <div id=\"id_3c1c588e-4622-493a-83a6-32464df1e5e2\">\n",
              "    <style>\n",
              "      .colab-df-generate {\n",
              "        background-color: #E8F0FE;\n",
              "        border: none;\n",
              "        border-radius: 50%;\n",
              "        cursor: pointer;\n",
              "        display: none;\n",
              "        fill: #1967D2;\n",
              "        height: 32px;\n",
              "        padding: 0 0 0 0;\n",
              "        width: 32px;\n",
              "      }\n",
              "\n",
              "      .colab-df-generate:hover {\n",
              "        background-color: #E2EBFA;\n",
              "        box-shadow: 0px 1px 2px rgba(60, 64, 67, 0.3), 0px 1px 3px 1px rgba(60, 64, 67, 0.15);\n",
              "        fill: #174EA6;\n",
              "      }\n",
              "\n",
              "      [theme=dark] .colab-df-generate {\n",
              "        background-color: #3B4455;\n",
              "        fill: #D2E3FC;\n",
              "      }\n",
              "\n",
              "      [theme=dark] .colab-df-generate:hover {\n",
              "        background-color: #434B5C;\n",
              "        box-shadow: 0px 1px 3px 1px rgba(0, 0, 0, 0.15);\n",
              "        filter: drop-shadow(0px 1px 2px rgba(0, 0, 0, 0.3));\n",
              "        fill: #FFFFFF;\n",
              "      }\n",
              "    </style>\n",
              "    <button class=\"colab-df-generate\" onclick=\"generateWithVariable('X')\"\n",
              "            title=\"Generate code using this dataframe.\"\n",
              "            style=\"display:none;\">\n",
              "\n",
              "  <svg xmlns=\"http://www.w3.org/2000/svg\" height=\"24px\"viewBox=\"0 0 24 24\"\n",
              "       width=\"24px\">\n",
              "    <path d=\"M7,19H8.4L18.45,9,17,7.55,7,17.6ZM5,21V16.75L18.45,3.32a2,2,0,0,1,2.83,0l1.4,1.43a1.91,1.91,0,0,1,.58,1.4,1.91,1.91,0,0,1-.58,1.4L9.25,21ZM18.45,9,17,7.55Zm-12,3A5.31,5.31,0,0,0,4.9,8.1,5.31,5.31,0,0,0,1,6.5,5.31,5.31,0,0,0,4.9,4.9,5.31,5.31,0,0,0,6.5,1,5.31,5.31,0,0,0,8.1,4.9,5.31,5.31,0,0,0,12,6.5,5.46,5.46,0,0,0,6.5,12Z\"/>\n",
              "  </svg>\n",
              "    </button>\n",
              "    <script>\n",
              "      (() => {\n",
              "      const buttonEl =\n",
              "        document.querySelector('#id_3c1c588e-4622-493a-83a6-32464df1e5e2 button.colab-df-generate');\n",
              "      buttonEl.style.display =\n",
              "        google.colab.kernel.accessAllowed ? 'block' : 'none';\n",
              "\n",
              "      buttonEl.onclick = () => {\n",
              "        google.colab.notebook.generateWithVariable('X');\n",
              "      }\n",
              "      })();\n",
              "    </script>\n",
              "  </div>\n",
              "\n",
              "    </div>\n",
              "  </div>\n"
            ],
            "application/vnd.google.colaboratory.intrinsic+json": {
              "type": "dataframe",
              "variable_name": "X",
              "summary": "{\n  \"name\": \"X\",\n  \"rows\": 14980,\n  \"fields\": [\n    {\n      \"column\": \"AF3\",\n      \"properties\": {\n        \"dtype\": \"number\",\n        \"std\": 2492.0721742650967,\n        \"min\": 1030.77,\n        \"max\": 309231.0,\n        \"num_unique_values\": 548,\n        \"samples\": [\n          4257.95,\n          4458.46,\n          4256.92\n        ],\n        \"semantic_type\": \"\",\n        \"description\": \"\"\n      }\n    },\n    {\n      \"column\": \"F7\",\n      \"properties\": {\n        \"dtype\": \"number\",\n        \"std\": 45.94167248479191,\n        \"min\": 2830.77,\n        \"max\": 7804.62,\n        \"num_unique_values\": 452,\n        \"samples\": [\n          4078.46,\n          4017.44,\n          4098.46\n        ],\n        \"semantic_type\": \"\",\n        \"description\": \"\"\n      }\n    },\n    {\n      \"column\": \"F3\",\n      \"properties\": {\n        \"dtype\": \"number\",\n        \"std\": 44.428051757419404,\n        \"min\": 1040.0,\n        \"max\": 6880.51,\n        \"num_unique_values\": 345,\n        \"samples\": [\n          4295.9,\n          4307.18,\n          4385.64\n        ],\n        \"semantic_type\": \"\",\n        \"description\": \"\"\n      }\n    },\n    {\n      \"column\": \"FC5\",\n      \"properties\": {\n        \"dtype\": \"number\",\n        \"std\": 5216.404632299904,\n        \"min\": 2453.33,\n        \"max\": 642564.0,\n        \"num_unique_values\": 312,\n        \"samples\": [\n          4162.05,\n          4142.05,\n          4114.36\n        ],\n        \"semantic_type\": \"\",\n        \"description\": \"\"\n      }\n    },\n    {\n      \"column\": \"T7\",\n      \"properties\": {\n        \"dtype\": \"number\",\n        \"std\": 34.73882081848662,\n        \"min\": 2089.74,\n        \"max\": 6474.36,\n        \"num_unique_values\": 285,\n        \"samples\": [\n          4339.49,\n          4427.69,\n          4447.18\n        ],\n        \"semantic_type\": \"\",\n        \"description\": \"\"\n      }\n    },\n    {\n      \"column\": \"P7\",\n      \"properties\": {\n        \"dtype\": \"number\",\n        \"std\": 2924.789537325123,\n        \"min\": 2768.21,\n        \"max\": 362564.0,\n        \"num_unique_values\": 330,\n        \"samples\": [\n          4581.54,\n          4651.79,\n          4570.77\n        ],\n        \"semantic_type\": \"\",\n        \"description\": \"\"\n      }\n    },\n    {\n      \"column\": \"O1\",\n      \"properties\": {\n        \"dtype\": \"number\",\n        \"std\": 4600.926542533788,\n        \"min\": 2086.15,\n        \"max\": 567179.0,\n        \"num_unique_values\": 290,\n        \"samples\": [\n          4098.46,\n          4134.87,\n          4078.97\n        ],\n        \"semantic_type\": \"\",\n        \"description\": \"\"\n      }\n    },\n    {\n      \"column\": \"O2\",\n      \"properties\": {\n        \"dtype\": \"number\",\n        \"std\": 29.292603201776213,\n        \"min\": 4567.18,\n        \"max\": 7264.1,\n        \"num_unique_values\": 294,\n        \"samples\": [\n          4609.74,\n          4608.72,\n          4583.59\n        ],\n        \"semantic_type\": \"\",\n        \"description\": \"\"\n      }\n    },\n    {\n      \"column\": \"P8\",\n      \"properties\": {\n        \"dtype\": \"number\",\n        \"std\": 2136.408522887388,\n        \"min\": 1357.95,\n        \"max\": 265641.0,\n        \"num_unique_values\": 304,\n        \"samples\": [\n          4238.97,\n          4170.77,\n          4234.87\n        ],\n        \"semantic_type\": \"\",\n        \"description\": \"\"\n      }\n    },\n    {\n      \"column\": \"T8\",\n      \"properties\": {\n        \"dtype\": \"number\",\n        \"std\": 38.050902621216295,\n        \"min\": 1816.41,\n        \"max\": 6674.36,\n        \"num_unique_values\": 346,\n        \"samples\": [\n          4256.41,\n          4193.85,\n          4330.77\n        ],\n        \"semantic_type\": \"\",\n        \"description\": \"\"\n      }\n    },\n    {\n      \"column\": \"FC6\",\n      \"properties\": {\n        \"dtype\": \"number\",\n        \"std\": 37.78598137403711,\n        \"min\": 3273.33,\n        \"max\": 6823.08,\n        \"num_unique_values\": 419,\n        \"samples\": [\n          4173.85,\n          4148.72,\n          4231.28\n        ],\n        \"semantic_type\": \"\",\n        \"description\": \"\"\n      }\n    },\n    {\n      \"column\": \"F4\",\n      \"properties\": {\n        \"dtype\": \"number\",\n        \"std\": 41.544311516664244,\n        \"min\": 2257.95,\n        \"max\": 7002.56,\n        \"num_unique_values\": 343,\n        \"samples\": [\n          4238.46,\n          4323.08,\n          4328.72\n        ],\n        \"semantic_type\": \"\",\n        \"description\": \"\"\n      }\n    },\n    {\n      \"column\": \"F8\",\n      \"properties\": {\n        \"dtype\": \"number\",\n        \"std\": 1208.3699582560432,\n        \"min\": 86.6667,\n        \"max\": 152308.0,\n        \"num_unique_values\": 558,\n        \"samples\": [\n          4667.69,\n          4475.9,\n          4640.0\n        ],\n        \"semantic_type\": \"\",\n        \"description\": \"\"\n      }\n    },\n    {\n      \"column\": \"AF4\",\n      \"properties\": {\n        \"dtype\": \"number\",\n        \"std\": 5891.285042523523,\n        \"min\": 1366.15,\n        \"max\": 715897.0,\n        \"num_unique_values\": 592,\n        \"samples\": [\n          4456.92,\n          4539.49,\n          4402.56\n        ],\n        \"semantic_type\": \"\",\n        \"description\": \"\"\n      }\n    }\n  ]\n}"
            }
          },
          "metadata": {},
          "execution_count": 18
        }
      ]
    },
    {
      "cell_type": "code",
      "source": [
        "Y"
      ],
      "metadata": {
        "colab": {
          "base_uri": "https://localhost:8080/"
        },
        "id": "prGr-8PBm_lm",
        "outputId": "9538fa5d-0c39-40bd-8be2-96ad0d15ba20"
      },
      "execution_count": 19,
      "outputs": [
        {
          "output_type": "execute_result",
          "data": {
            "text/plain": [
              "0        0\n",
              "1        0\n",
              "2        0\n",
              "3        0\n",
              "4        0\n",
              "        ..\n",
              "14975    1\n",
              "14976    1\n",
              "14977    1\n",
              "14978    1\n",
              "14979    1\n",
              "Name: eyeDetection, Length: 14980, dtype: int64"
            ]
          },
          "metadata": {},
          "execution_count": 19
        }
      ]
    },
    {
      "cell_type": "code",
      "source": [
        "from sklearn.model_selection import train_test_split\n",
        "x_train,x_test,y_train,y_test = train_test_split(X,Y,test_size=0.25,random_state=0)"
      ],
      "metadata": {
        "id": "iIR0TMAem_7c"
      },
      "execution_count": 20,
      "outputs": []
    },
    {
      "cell_type": "code",
      "source": [
        "x_train.shape"
      ],
      "metadata": {
        "colab": {
          "base_uri": "https://localhost:8080/"
        },
        "id": "4upbBCD9nRUD",
        "outputId": "75011919-3f29-4bd8-8ea8-47d8ecc947f5"
      },
      "execution_count": 21,
      "outputs": [
        {
          "output_type": "execute_result",
          "data": {
            "text/plain": [
              "(11235, 14)"
            ]
          },
          "metadata": {},
          "execution_count": 21
        }
      ]
    },
    {
      "cell_type": "code",
      "source": [
        "x_test.shape"
      ],
      "metadata": {
        "colab": {
          "base_uri": "https://localhost:8080/"
        },
        "id": "UUUvK7r5nSlc",
        "outputId": "cc23dd8d-0d14-418a-f98f-3286df83de18"
      },
      "execution_count": 22,
      "outputs": [
        {
          "output_type": "execute_result",
          "data": {
            "text/plain": [
              "(3745, 14)"
            ]
          },
          "metadata": {},
          "execution_count": 22
        }
      ]
    },
    {
      "cell_type": "code",
      "source": [
        "from sklearn.preprocessing import StandardScaler\n",
        "c = StandardScaler()\n",
        "x_train = c.fit_transform(x_train)\n",
        "x_train"
      ],
      "metadata": {
        "colab": {
          "base_uri": "https://localhost:8080/"
        },
        "id": "t0E8msz4nT8f",
        "outputId": "7f5cb0da-2e3a-4ec9-c64d-dd82d17e556d"
      },
      "execution_count": 23,
      "outputs": [
        {
          "output_type": "execute_result",
          "data": {
            "text/plain": [
              "array([[-2.08540921e-02, -6.36263367e-01, -2.94955825e-01, ...,\n",
              "        -3.55581566e-01, -1.81022896e-02, -4.23123634e-01],\n",
              "       [-8.02178997e-03,  6.35008112e-01,  4.11324784e-01, ...,\n",
              "         1.87536654e-01, -7.43160497e-03, -2.74597080e-01],\n",
              "       [-7.84452902e-03,  1.02360012e+00,  9.41733005e-02, ...,\n",
              "         1.47021253e-01,  2.84562141e-04, -4.12573145e-02],\n",
              "       ...,\n",
              "       [-1.53311972e-02, -5.62723815e-01,  7.85636300e-03, ...,\n",
              "        -5.32207531e-01, -1.73636602e-02, -1.26070527e-01],\n",
              "       [ 1.14073999e-02,  1.06559346e+00,  1.72351093e+00, ...,\n",
              "         1.35559832e+00,  3.22822737e-02,  1.04083516e+00],\n",
              "       [-1.78267532e-02, -1.73926962e-01, -2.08638887e-01, ...,\n",
              "        -1.24670261e-01, -2.14081939e-02, -5.71650187e-01]])"
            ]
          },
          "metadata": {},
          "execution_count": 23
        }
      ]
    },
    {
      "cell_type": "code",
      "source": [
        "from sklearn.tree import DecisionTreeClassifier\n",
        "a= DecisionTreeClassifier()\n",
        "a.fit(x_train,y_train)"
      ],
      "metadata": {
        "colab": {
          "base_uri": "https://localhost:8080/",
          "height": 74
        },
        "id": "xD1IyrGcnjnl",
        "outputId": "f3fa3b80-d8ae-4d1c-98be-a9ec605d7413"
      },
      "execution_count": 24,
      "outputs": [
        {
          "output_type": "execute_result",
          "data": {
            "text/plain": [
              "DecisionTreeClassifier()"
            ],
            "text/html": [
              "<style>#sk-container-id-1 {color: black;background-color: white;}#sk-container-id-1 pre{padding: 0;}#sk-container-id-1 div.sk-toggleable {background-color: white;}#sk-container-id-1 label.sk-toggleable__label {cursor: pointer;display: block;width: 100%;margin-bottom: 0;padding: 0.3em;box-sizing: border-box;text-align: center;}#sk-container-id-1 label.sk-toggleable__label-arrow:before {content: \"▸\";float: left;margin-right: 0.25em;color: #696969;}#sk-container-id-1 label.sk-toggleable__label-arrow:hover:before {color: black;}#sk-container-id-1 div.sk-estimator:hover label.sk-toggleable__label-arrow:before {color: black;}#sk-container-id-1 div.sk-toggleable__content {max-height: 0;max-width: 0;overflow: hidden;text-align: left;background-color: #f0f8ff;}#sk-container-id-1 div.sk-toggleable__content pre {margin: 0.2em;color: black;border-radius: 0.25em;background-color: #f0f8ff;}#sk-container-id-1 input.sk-toggleable__control:checked~div.sk-toggleable__content {max-height: 200px;max-width: 100%;overflow: auto;}#sk-container-id-1 input.sk-toggleable__control:checked~label.sk-toggleable__label-arrow:before {content: \"▾\";}#sk-container-id-1 div.sk-estimator input.sk-toggleable__control:checked~label.sk-toggleable__label {background-color: #d4ebff;}#sk-container-id-1 div.sk-label input.sk-toggleable__control:checked~label.sk-toggleable__label {background-color: #d4ebff;}#sk-container-id-1 input.sk-hidden--visually {border: 0;clip: rect(1px 1px 1px 1px);clip: rect(1px, 1px, 1px, 1px);height: 1px;margin: -1px;overflow: hidden;padding: 0;position: absolute;width: 1px;}#sk-container-id-1 div.sk-estimator {font-family: monospace;background-color: #f0f8ff;border: 1px dotted black;border-radius: 0.25em;box-sizing: border-box;margin-bottom: 0.5em;}#sk-container-id-1 div.sk-estimator:hover {background-color: #d4ebff;}#sk-container-id-1 div.sk-parallel-item::after {content: \"\";width: 100%;border-bottom: 1px solid gray;flex-grow: 1;}#sk-container-id-1 div.sk-label:hover label.sk-toggleable__label {background-color: #d4ebff;}#sk-container-id-1 div.sk-serial::before {content: \"\";position: absolute;border-left: 1px solid gray;box-sizing: border-box;top: 0;bottom: 0;left: 50%;z-index: 0;}#sk-container-id-1 div.sk-serial {display: flex;flex-direction: column;align-items: center;background-color: white;padding-right: 0.2em;padding-left: 0.2em;position: relative;}#sk-container-id-1 div.sk-item {position: relative;z-index: 1;}#sk-container-id-1 div.sk-parallel {display: flex;align-items: stretch;justify-content: center;background-color: white;position: relative;}#sk-container-id-1 div.sk-item::before, #sk-container-id-1 div.sk-parallel-item::before {content: \"\";position: absolute;border-left: 1px solid gray;box-sizing: border-box;top: 0;bottom: 0;left: 50%;z-index: -1;}#sk-container-id-1 div.sk-parallel-item {display: flex;flex-direction: column;z-index: 1;position: relative;background-color: white;}#sk-container-id-1 div.sk-parallel-item:first-child::after {align-self: flex-end;width: 50%;}#sk-container-id-1 div.sk-parallel-item:last-child::after {align-self: flex-start;width: 50%;}#sk-container-id-1 div.sk-parallel-item:only-child::after {width: 0;}#sk-container-id-1 div.sk-dashed-wrapped {border: 1px dashed gray;margin: 0 0.4em 0.5em 0.4em;box-sizing: border-box;padding-bottom: 0.4em;background-color: white;}#sk-container-id-1 div.sk-label label {font-family: monospace;font-weight: bold;display: inline-block;line-height: 1.2em;}#sk-container-id-1 div.sk-label-container {text-align: center;}#sk-container-id-1 div.sk-container {/* jupyter's `normalize.less` sets `[hidden] { display: none; }` but bootstrap.min.css set `[hidden] { display: none !important; }` so we also need the `!important` here to be able to override the default hidden behavior on the sphinx rendered scikit-learn.org. See: https://github.com/scikit-learn/scikit-learn/issues/21755 */display: inline-block !important;position: relative;}#sk-container-id-1 div.sk-text-repr-fallback {display: none;}</style><div id=\"sk-container-id-1\" class=\"sk-top-container\"><div class=\"sk-text-repr-fallback\"><pre>DecisionTreeClassifier()</pre><b>In a Jupyter environment, please rerun this cell to show the HTML representation or trust the notebook. <br />On GitHub, the HTML representation is unable to render, please try loading this page with nbviewer.org.</b></div><div class=\"sk-container\" hidden><div class=\"sk-item\"><div class=\"sk-estimator sk-toggleable\"><input class=\"sk-toggleable__control sk-hidden--visually\" id=\"sk-estimator-id-1\" type=\"checkbox\" checked><label for=\"sk-estimator-id-1\" class=\"sk-toggleable__label sk-toggleable__label-arrow\">DecisionTreeClassifier</label><div class=\"sk-toggleable__content\"><pre>DecisionTreeClassifier()</pre></div></div></div></div></div>"
            ]
          },
          "metadata": {},
          "execution_count": 24
        }
      ]
    },
    {
      "cell_type": "code",
      "source": [
        "y_pred =a.predict(x_test)"
      ],
      "metadata": {
        "colab": {
          "base_uri": "https://localhost:8080/"
        },
        "id": "kyCUwGoVnvcX",
        "outputId": "ca19c711-602d-4d69-fdcc-6666494495e7"
      },
      "execution_count": 25,
      "outputs": [
        {
          "output_type": "stream",
          "name": "stderr",
          "text": [
            "/usr/local/lib/python3.10/dist-packages/sklearn/base.py:432: UserWarning: X has feature names, but DecisionTreeClassifier was fitted without feature names\n",
            "  warnings.warn(\n"
          ]
        }
      ]
    },
    {
      "cell_type": "code",
      "source": [
        "y_pred"
      ],
      "metadata": {
        "colab": {
          "base_uri": "https://localhost:8080/"
        },
        "id": "kG6sQ_4xn2Cv",
        "outputId": "1389dcc1-40f0-4429-e540-609b591bea45"
      },
      "execution_count": 26,
      "outputs": [
        {
          "output_type": "execute_result",
          "data": {
            "text/plain": [
              "array([0, 0, 0, ..., 0, 0, 0])"
            ]
          },
          "metadata": {},
          "execution_count": 26
        }
      ]
    },
    {
      "cell_type": "code",
      "source": [
        "from sklearn.metrics import accuracy_score\n",
        "a=accuracy_score(y_test,y_pred)\n",
        "from sklearn.metrics import confusion_matrix\n",
        "c=confusion_matrix(y_test,y_pred)\n",
        "a"
      ],
      "metadata": {
        "colab": {
          "base_uri": "https://localhost:8080/"
        },
        "id": "FbUCYM6hn22y",
        "outputId": "6e41d5fd-f1dd-42a8-a5f5-5868420e5434"
      },
      "execution_count": 29,
      "outputs": [
        {
          "output_type": "execute_result",
          "data": {
            "text/plain": [
              "0.5412550066755675"
            ]
          },
          "metadata": {},
          "execution_count": 29
        }
      ]
    },
    {
      "cell_type": "code",
      "source": [
        "c"
      ],
      "metadata": {
        "colab": {
          "base_uri": "https://localhost:8080/"
        },
        "id": "wu9gGG9YpNWw",
        "outputId": "86988165-cde6-40b9-cb41-5bf71a85cfbe"
      },
      "execution_count": 30,
      "outputs": [
        {
          "output_type": "execute_result",
          "data": {
            "text/plain": [
              "array([[2027,    0],\n",
              "       [1718,    0]])"
            ]
          },
          "metadata": {},
          "execution_count": 30
        }
      ]
    },
    {
      "cell_type": "code",
      "source": [
        "from sklearn.svm import SVC\n",
        "clf = SVC()\n",
        "clf.fit(x_train,y_train)"
      ],
      "metadata": {
        "colab": {
          "base_uri": "https://localhost:8080/",
          "height": 74
        },
        "id": "5huNsjOtqKPY",
        "outputId": "bf571d8c-ba02-4183-e0f5-60b4e4dc4216"
      },
      "execution_count": 34,
      "outputs": [
        {
          "output_type": "execute_result",
          "data": {
            "text/plain": [
              "SVC()"
            ],
            "text/html": [
              "<style>#sk-container-id-2 {color: black;background-color: white;}#sk-container-id-2 pre{padding: 0;}#sk-container-id-2 div.sk-toggleable {background-color: white;}#sk-container-id-2 label.sk-toggleable__label {cursor: pointer;display: block;width: 100%;margin-bottom: 0;padding: 0.3em;box-sizing: border-box;text-align: center;}#sk-container-id-2 label.sk-toggleable__label-arrow:before {content: \"▸\";float: left;margin-right: 0.25em;color: #696969;}#sk-container-id-2 label.sk-toggleable__label-arrow:hover:before {color: black;}#sk-container-id-2 div.sk-estimator:hover label.sk-toggleable__label-arrow:before {color: black;}#sk-container-id-2 div.sk-toggleable__content {max-height: 0;max-width: 0;overflow: hidden;text-align: left;background-color: #f0f8ff;}#sk-container-id-2 div.sk-toggleable__content pre {margin: 0.2em;color: black;border-radius: 0.25em;background-color: #f0f8ff;}#sk-container-id-2 input.sk-toggleable__control:checked~div.sk-toggleable__content {max-height: 200px;max-width: 100%;overflow: auto;}#sk-container-id-2 input.sk-toggleable__control:checked~label.sk-toggleable__label-arrow:before {content: \"▾\";}#sk-container-id-2 div.sk-estimator input.sk-toggleable__control:checked~label.sk-toggleable__label {background-color: #d4ebff;}#sk-container-id-2 div.sk-label input.sk-toggleable__control:checked~label.sk-toggleable__label {background-color: #d4ebff;}#sk-container-id-2 input.sk-hidden--visually {border: 0;clip: rect(1px 1px 1px 1px);clip: rect(1px, 1px, 1px, 1px);height: 1px;margin: -1px;overflow: hidden;padding: 0;position: absolute;width: 1px;}#sk-container-id-2 div.sk-estimator {font-family: monospace;background-color: #f0f8ff;border: 1px dotted black;border-radius: 0.25em;box-sizing: border-box;margin-bottom: 0.5em;}#sk-container-id-2 div.sk-estimator:hover {background-color: #d4ebff;}#sk-container-id-2 div.sk-parallel-item::after {content: \"\";width: 100%;border-bottom: 1px solid gray;flex-grow: 1;}#sk-container-id-2 div.sk-label:hover label.sk-toggleable__label {background-color: #d4ebff;}#sk-container-id-2 div.sk-serial::before {content: \"\";position: absolute;border-left: 1px solid gray;box-sizing: border-box;top: 0;bottom: 0;left: 50%;z-index: 0;}#sk-container-id-2 div.sk-serial {display: flex;flex-direction: column;align-items: center;background-color: white;padding-right: 0.2em;padding-left: 0.2em;position: relative;}#sk-container-id-2 div.sk-item {position: relative;z-index: 1;}#sk-container-id-2 div.sk-parallel {display: flex;align-items: stretch;justify-content: center;background-color: white;position: relative;}#sk-container-id-2 div.sk-item::before, #sk-container-id-2 div.sk-parallel-item::before {content: \"\";position: absolute;border-left: 1px solid gray;box-sizing: border-box;top: 0;bottom: 0;left: 50%;z-index: -1;}#sk-container-id-2 div.sk-parallel-item {display: flex;flex-direction: column;z-index: 1;position: relative;background-color: white;}#sk-container-id-2 div.sk-parallel-item:first-child::after {align-self: flex-end;width: 50%;}#sk-container-id-2 div.sk-parallel-item:last-child::after {align-self: flex-start;width: 50%;}#sk-container-id-2 div.sk-parallel-item:only-child::after {width: 0;}#sk-container-id-2 div.sk-dashed-wrapped {border: 1px dashed gray;margin: 0 0.4em 0.5em 0.4em;box-sizing: border-box;padding-bottom: 0.4em;background-color: white;}#sk-container-id-2 div.sk-label label {font-family: monospace;font-weight: bold;display: inline-block;line-height: 1.2em;}#sk-container-id-2 div.sk-label-container {text-align: center;}#sk-container-id-2 div.sk-container {/* jupyter's `normalize.less` sets `[hidden] { display: none; }` but bootstrap.min.css set `[hidden] { display: none !important; }` so we also need the `!important` here to be able to override the default hidden behavior on the sphinx rendered scikit-learn.org. See: https://github.com/scikit-learn/scikit-learn/issues/21755 */display: inline-block !important;position: relative;}#sk-container-id-2 div.sk-text-repr-fallback {display: none;}</style><div id=\"sk-container-id-2\" class=\"sk-top-container\"><div class=\"sk-text-repr-fallback\"><pre>SVC()</pre><b>In a Jupyter environment, please rerun this cell to show the HTML representation or trust the notebook. <br />On GitHub, the HTML representation is unable to render, please try loading this page with nbviewer.org.</b></div><div class=\"sk-container\" hidden><div class=\"sk-item\"><div class=\"sk-estimator sk-toggleable\"><input class=\"sk-toggleable__control sk-hidden--visually\" id=\"sk-estimator-id-2\" type=\"checkbox\" checked><label for=\"sk-estimator-id-2\" class=\"sk-toggleable__label sk-toggleable__label-arrow\">SVC</label><div class=\"sk-toggleable__content\"><pre>SVC()</pre></div></div></div></div></div>"
            ]
          },
          "metadata": {},
          "execution_count": 34
        }
      ]
    },
    {
      "cell_type": "code",
      "source": [
        "y_pred1 = clf.predict(x_test)\n",
        "y_pred1"
      ],
      "metadata": {
        "colab": {
          "base_uri": "https://localhost:8080/"
        },
        "id": "faPPilrsqaBr",
        "outputId": "b3963c9b-91b9-49b2-fdbe-c90ba16f22bc"
      },
      "execution_count": 45,
      "outputs": [
        {
          "output_type": "stream",
          "name": "stderr",
          "text": [
            "/usr/local/lib/python3.10/dist-packages/sklearn/base.py:432: UserWarning: X has feature names, but SVC was fitted without feature names\n",
            "  warnings.warn(\n"
          ]
        },
        {
          "output_type": "execute_result",
          "data": {
            "text/plain": [
              "array([0, 0, 0, ..., 0, 0, 0])"
            ]
          },
          "metadata": {},
          "execution_count": 45
        }
      ]
    },
    {
      "cell_type": "code",
      "source": [
        "from sklearn.metrics import accuracy_score\n",
        "a=accuracy_score(y_test,y_pred1)\n",
        "from sklearn.metrics import confusion_matrix\n",
        "c=confusion_matrix(y_test,y_pred1)\n",
        "a"
      ],
      "metadata": {
        "colab": {
          "base_uri": "https://localhost:8080/"
        },
        "id": "oMnKROiWqsIf",
        "outputId": "84f366eb-c38f-4090-f005-52cfe22c6288"
      },
      "execution_count": 46,
      "outputs": [
        {
          "output_type": "execute_result",
          "data": {
            "text/plain": [
              "0.5412550066755675"
            ]
          },
          "metadata": {},
          "execution_count": 46
        }
      ]
    },
    {
      "cell_type": "code",
      "source": [
        "c"
      ],
      "metadata": {
        "colab": {
          "base_uri": "https://localhost:8080/"
        },
        "id": "wRFDl05eqwv6",
        "outputId": "ca48188e-b70a-4295-ad7f-db283259f191"
      },
      "execution_count": 47,
      "outputs": [
        {
          "output_type": "execute_result",
          "data": {
            "text/plain": [
              "array([[2027,    0],\n",
              "       [1718,    0]])"
            ]
          },
          "metadata": {},
          "execution_count": 47
        }
      ]
    },
    {
      "cell_type": "code",
      "source": [
        "from sklearn.linear_model import LogisticRegression\n",
        "lg = LogisticRegression()\n",
        "lg.fit(x_train,y_train)\n",
        "lg"
      ],
      "metadata": {
        "colab": {
          "base_uri": "https://localhost:8080/",
          "height": 74
        },
        "id": "tYimf25DqxDL",
        "outputId": "29813169-3cec-40ac-97fa-071909ce8063"
      },
      "execution_count": 41,
      "outputs": [
        {
          "output_type": "execute_result",
          "data": {
            "text/plain": [
              "LogisticRegression()"
            ],
            "text/html": [
              "<style>#sk-container-id-3 {color: black;background-color: white;}#sk-container-id-3 pre{padding: 0;}#sk-container-id-3 div.sk-toggleable {background-color: white;}#sk-container-id-3 label.sk-toggleable__label {cursor: pointer;display: block;width: 100%;margin-bottom: 0;padding: 0.3em;box-sizing: border-box;text-align: center;}#sk-container-id-3 label.sk-toggleable__label-arrow:before {content: \"▸\";float: left;margin-right: 0.25em;color: #696969;}#sk-container-id-3 label.sk-toggleable__label-arrow:hover:before {color: black;}#sk-container-id-3 div.sk-estimator:hover label.sk-toggleable__label-arrow:before {color: black;}#sk-container-id-3 div.sk-toggleable__content {max-height: 0;max-width: 0;overflow: hidden;text-align: left;background-color: #f0f8ff;}#sk-container-id-3 div.sk-toggleable__content pre {margin: 0.2em;color: black;border-radius: 0.25em;background-color: #f0f8ff;}#sk-container-id-3 input.sk-toggleable__control:checked~div.sk-toggleable__content {max-height: 200px;max-width: 100%;overflow: auto;}#sk-container-id-3 input.sk-toggleable__control:checked~label.sk-toggleable__label-arrow:before {content: \"▾\";}#sk-container-id-3 div.sk-estimator input.sk-toggleable__control:checked~label.sk-toggleable__label {background-color: #d4ebff;}#sk-container-id-3 div.sk-label input.sk-toggleable__control:checked~label.sk-toggleable__label {background-color: #d4ebff;}#sk-container-id-3 input.sk-hidden--visually {border: 0;clip: rect(1px 1px 1px 1px);clip: rect(1px, 1px, 1px, 1px);height: 1px;margin: -1px;overflow: hidden;padding: 0;position: absolute;width: 1px;}#sk-container-id-3 div.sk-estimator {font-family: monospace;background-color: #f0f8ff;border: 1px dotted black;border-radius: 0.25em;box-sizing: border-box;margin-bottom: 0.5em;}#sk-container-id-3 div.sk-estimator:hover {background-color: #d4ebff;}#sk-container-id-3 div.sk-parallel-item::after {content: \"\";width: 100%;border-bottom: 1px solid gray;flex-grow: 1;}#sk-container-id-3 div.sk-label:hover label.sk-toggleable__label {background-color: #d4ebff;}#sk-container-id-3 div.sk-serial::before {content: \"\";position: absolute;border-left: 1px solid gray;box-sizing: border-box;top: 0;bottom: 0;left: 50%;z-index: 0;}#sk-container-id-3 div.sk-serial {display: flex;flex-direction: column;align-items: center;background-color: white;padding-right: 0.2em;padding-left: 0.2em;position: relative;}#sk-container-id-3 div.sk-item {position: relative;z-index: 1;}#sk-container-id-3 div.sk-parallel {display: flex;align-items: stretch;justify-content: center;background-color: white;position: relative;}#sk-container-id-3 div.sk-item::before, #sk-container-id-3 div.sk-parallel-item::before {content: \"\";position: absolute;border-left: 1px solid gray;box-sizing: border-box;top: 0;bottom: 0;left: 50%;z-index: -1;}#sk-container-id-3 div.sk-parallel-item {display: flex;flex-direction: column;z-index: 1;position: relative;background-color: white;}#sk-container-id-3 div.sk-parallel-item:first-child::after {align-self: flex-end;width: 50%;}#sk-container-id-3 div.sk-parallel-item:last-child::after {align-self: flex-start;width: 50%;}#sk-container-id-3 div.sk-parallel-item:only-child::after {width: 0;}#sk-container-id-3 div.sk-dashed-wrapped {border: 1px dashed gray;margin: 0 0.4em 0.5em 0.4em;box-sizing: border-box;padding-bottom: 0.4em;background-color: white;}#sk-container-id-3 div.sk-label label {font-family: monospace;font-weight: bold;display: inline-block;line-height: 1.2em;}#sk-container-id-3 div.sk-label-container {text-align: center;}#sk-container-id-3 div.sk-container {/* jupyter's `normalize.less` sets `[hidden] { display: none; }` but bootstrap.min.css set `[hidden] { display: none !important; }` so we also need the `!important` here to be able to override the default hidden behavior on the sphinx rendered scikit-learn.org. See: https://github.com/scikit-learn/scikit-learn/issues/21755 */display: inline-block !important;position: relative;}#sk-container-id-3 div.sk-text-repr-fallback {display: none;}</style><div id=\"sk-container-id-3\" class=\"sk-top-container\"><div class=\"sk-text-repr-fallback\"><pre>LogisticRegression()</pre><b>In a Jupyter environment, please rerun this cell to show the HTML representation or trust the notebook. <br />On GitHub, the HTML representation is unable to render, please try loading this page with nbviewer.org.</b></div><div class=\"sk-container\" hidden><div class=\"sk-item\"><div class=\"sk-estimator sk-toggleable\"><input class=\"sk-toggleable__control sk-hidden--visually\" id=\"sk-estimator-id-3\" type=\"checkbox\" checked><label for=\"sk-estimator-id-3\" class=\"sk-toggleable__label sk-toggleable__label-arrow\">LogisticRegression</label><div class=\"sk-toggleable__content\"><pre>LogisticRegression()</pre></div></div></div></div></div>"
            ]
          },
          "metadata": {},
          "execution_count": 41
        }
      ]
    },
    {
      "cell_type": "code",
      "source": [
        "y_pred2 = lg.predict(x_test)\n",
        "y_pred2"
      ],
      "metadata": {
        "colab": {
          "base_uri": "https://localhost:8080/"
        },
        "id": "ynlJ5fxZrNIA",
        "outputId": "563a6b33-13c5-4fb8-d8d7-06f7f7f5681a"
      },
      "execution_count": 49,
      "outputs": [
        {
          "output_type": "stream",
          "name": "stderr",
          "text": [
            "/usr/local/lib/python3.10/dist-packages/sklearn/base.py:432: UserWarning: X has feature names, but LogisticRegression was fitted without feature names\n",
            "  warnings.warn(\n"
          ]
        },
        {
          "output_type": "execute_result",
          "data": {
            "text/plain": [
              "array([1, 1, 1, ..., 1, 1, 1])"
            ]
          },
          "metadata": {},
          "execution_count": 49
        }
      ]
    },
    {
      "cell_type": "code",
      "source": [
        "from sklearn.metrics import accuracy_score\n",
        "a=accuracy_score(y_test,y_pred2)\n",
        "from sklearn.metrics import confusion_matrix\n",
        "c=confusion_matrix(y_test,y_pred2)\n",
        "a"
      ],
      "metadata": {
        "colab": {
          "base_uri": "https://localhost:8080/"
        },
        "id": "O5oufptZrT_6",
        "outputId": "7390e0da-619f-46cd-9b72-d25a100e11af"
      },
      "execution_count": 50,
      "outputs": [
        {
          "output_type": "execute_result",
          "data": {
            "text/plain": [
              "0.45927903871829107"
            ]
          },
          "metadata": {},
          "execution_count": 50
        }
      ]
    },
    {
      "cell_type": "code",
      "source": [
        "c"
      ],
      "metadata": {
        "colab": {
          "base_uri": "https://localhost:8080/"
        },
        "id": "2RTvE9mvrWBT",
        "outputId": "a082f9a8-d68e-4950-b962-6e63552527bf"
      },
      "execution_count": 51,
      "outputs": [
        {
          "output_type": "execute_result",
          "data": {
            "text/plain": [
              "array([[   2, 2025],\n",
              "       [   0, 1718]])"
            ]
          },
          "metadata": {},
          "execution_count": 51
        }
      ]
    }
  ]
}